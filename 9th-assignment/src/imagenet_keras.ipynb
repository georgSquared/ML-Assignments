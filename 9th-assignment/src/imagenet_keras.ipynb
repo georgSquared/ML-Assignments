{
 "cells": [
  {
   "cell_type": "markdown",
   "metadata": {
    "pycharm": {
     "name": "#%% md\n"
    }
   },
   "source": [
    "## Image recognition with Keras\n",
    "\n",
    "We will attempt to identify some the dog breed of the given dog images, by using neural networks and the IMAGENET\n",
    "database. We will utilize some pretrained model and observe the different results\n",
    "\n",
    "Lets start with necessary imports"
   ]
  },
  {
   "cell_type": "code",
   "execution_count": 1,
   "metadata": {
    "collapsed": true
   },
   "outputs": [],
   "source": [
    "import os\n",
    "import numpy as np\n",
    "from keras_preprocessing.image import load_img, img_to_array"
   ]
  },
  {
   "cell_type": "markdown",
   "metadata": {
    "pycharm": {
     "name": "#%% md\n"
    }
   },
   "source": [
    "First model we try is the VGG 16. We use the ready weights of imagenet as already mentioned."
   ]
  },
  {
   "cell_type": "code",
   "execution_count": 2,
   "metadata": {
    "pycharm": {
     "name": "#%%\n"
    }
   },
   "outputs": [],
   "source": [
    "from keras.applications.vgg16 import VGG16, preprocess_input, decode_predictions\n",
    "from tensorflow.python.keras.applications.vgg16 import preprocess_input\n",
    "model = VGG16(weights='imagenet')"
   ]
  },
  {
   "cell_type": "markdown",
   "metadata": {
    "pycharm": {
     "name": "#%% md\n"
    }
   },
   "source": [
    "Load all our image in a list, transform them to a numpy array and join them to a single matrix. This way our network\n",
    "can predict them all together"
   ]
  },
  {
   "cell_type": "code",
   "execution_count": 3,
   "metadata": {
    "pycharm": {
     "name": "#%%\n"
    }
   },
   "outputs": [],
   "source": [
    "image_list = []\n",
    "filenames = []\n",
    "folder_path = '../data'\n",
    "for image_name in os.listdir(folder_path):\n",
    "    filenames.append(image_name)\n",
    "\n",
    "    image = os.path.join(folder_path, image_name)\n",
    "    image = load_img(image, target_size=(224, 224))\n",
    "\n",
    "    image_array = img_to_array(image)\n",
    "    image_array = np.expand_dims(image_array, axis=0)\n",
    "    image_list.append(image_array)\n",
    "\n",
    "images = np.vstack(image_list)"
   ]
  },
  {
   "cell_type": "markdown",
   "metadata": {
    "pycharm": {
     "name": "#%% md\n"
    }
   },
   "source": [
    "Classify our images"
   ]
  },
  {
   "cell_type": "code",
   "execution_count": 4,
   "metadata": {
    "pycharm": {
     "name": "#%%\n"
    }
   },
   "outputs": [],
   "source": [
    "classes = model.predict(images, batch_size=10)\n",
    "labels = decode_predictions(classes)"
   ]
  },
  {
   "cell_type": "markdown",
   "metadata": {
    "pycharm": {
     "name": "#%% md\n"
    }
   },
   "source": [
    "Print most probable predictions for each image"
   ]
  },
  {
   "cell_type": "code",
   "execution_count": 5,
   "metadata": {
    "pycharm": {
     "name": "#%%\n"
    }
   },
   "outputs": [
    {
     "name": "stdout",
     "output_type": "stream",
     "text": [
      "\n",
      "For image: Ermis1.jpg\n",
      "Predicted breed is Norwegian_elkhound with prob: 39.20%\n",
      "Predicted breed is Siberian_husky with prob: 27.79%\n",
      "Predicted breed is Eskimo_dog with prob: 19.39%\n",
      "Predicted breed is malamute with prob: 12.96%\n",
      "Predicted breed is keeshond with prob: 0.13%\n",
      "\n",
      "For image: jake2.jpg\n",
      "Predicted breed is Samoyed with prob: 92.33%\n",
      "Predicted breed is Arctic_fox with prob: 2.03%\n",
      "Predicted breed is Eskimo_dog with prob: 1.53%\n",
      "Predicted breed is Siberian_husky with prob: 1.17%\n",
      "Predicted breed is West_Highland_white_terrier with prob: 0.93%\n",
      "\n",
      "For image: jake1.jpg\n",
      "Predicted breed is Siberian_husky with prob: 20.34%\n",
      "Predicted breed is Arctic_fox with prob: 18.35%\n",
      "Predicted breed is weasel with prob: 17.20%\n",
      "Predicted breed is Bedlington_terrier with prob: 7.32%\n",
      "Predicted breed is dalmatian with prob: 5.78%\n",
      "\n",
      "For image: Ermis2.JPG\n",
      "Predicted breed is kelpie with prob: 87.87%\n",
      "Predicted breed is Siberian_husky with prob: 4.08%\n",
      "Predicted breed is Eskimo_dog with prob: 2.13%\n",
      "Predicted breed is Ibizan_hound with prob: 1.04%\n",
      "Predicted breed is Doberman with prob: 0.71%\n",
      "\n",
      "For image: Fred3.jpg\n",
      "Predicted breed is quilt with prob: 21.44%\n",
      "Predicted breed is cradle with prob: 21.15%\n",
      "Predicted breed is bassinet with prob: 11.57%\n",
      "Predicted breed is pillow with prob: 8.97%\n",
      "Predicted breed is rocking_chair with prob: 7.10%\n",
      "\n",
      "For image: jake4.jpg\n",
      "Predicted breed is white_wolf with prob: 75.70%\n",
      "Predicted breed is Arctic_fox with prob: 5.97%\n",
      "Predicted breed is kuvasz with prob: 3.94%\n",
      "Predicted breed is Samoyed with prob: 2.74%\n",
      "Predicted breed is llama with prob: 2.17%\n",
      "\n",
      "For image: jake3.jpg\n",
      "Predicted breed is Eskimo_dog with prob: 35.86%\n",
      "Predicted breed is Siberian_husky with prob: 29.65%\n",
      "Predicted breed is malamute with prob: 14.96%\n",
      "Predicted breed is Cardigan with prob: 8.53%\n",
      "Predicted breed is Pembroke with prob: 6.12%\n",
      "\n",
      "For image: Fred2.jpg\n",
      "Predicted breed is English_setter with prob: 57.50%\n",
      "Predicted breed is wire-haired_fox_terrier with prob: 15.70%\n",
      "Predicted breed is Lakeland_terrier with prob: 15.54%\n",
      "Predicted breed is soft-coated_wheaten_terrier with prob: 4.69%\n",
      "Predicted breed is standard_poodle with prob: 1.98%\n",
      "\n",
      "For image: Fred1.jpg\n",
      "Predicted breed is English_setter with prob: 44.16%\n",
      "Predicted breed is bluetick with prob: 15.76%\n",
      "Predicted breed is German_short-haired_pointer with prob: 10.48%\n",
      "Predicted breed is Walker_hound with prob: 8.96%\n",
      "Predicted breed is English_foxhound with prob: 8.76%\n",
      "\n",
      "For image: Ermis3.jpg\n",
      "Predicted breed is Siberian_husky with prob: 21.97%\n",
      "Predicted breed is Eskimo_dog with prob: 19.72%\n",
      "Predicted breed is malamute with prob: 7.24%\n",
      "Predicted breed is beagle with prob: 4.44%\n",
      "Predicted breed is Boston_bull with prob: 3.93%\n"
     ]
    }
   ],
   "source": [
    "for i, label in enumerate(labels):\n",
    "    print()\n",
    "    print(f\"For image: {filenames[i]}\")\n",
    "    for res in label:\n",
    "        print(f\"Predicted breed is {res[1]} with prob: {res[2]*100:.2f}%\")\n"
   ]
  },
  {
   "cell_type": "markdown",
   "metadata": {
    "pycharm": {
     "name": "#%% md\n"
    }
   },
   "source": [
    "Let's also check the results of different pretrained networks\n"
   ]
  },
  {
   "cell_type": "code",
   "execution_count": 6,
   "metadata": {
    "pycharm": {
     "name": "#%%\n"
    }
   },
   "outputs": [],
   "source": [
    "from keras.applications.vgg19 import VGG19, preprocess_input, decode_predictions\n",
    "from tensorflow.python.keras.applications.vgg16 import preprocess_input\n",
    "model = VGG19(weights='imagenet')"
   ]
  },
  {
   "cell_type": "code",
   "execution_count": 7,
   "metadata": {
    "pycharm": {
     "name": "#%%\n"
    }
   },
   "outputs": [
    {
     "name": "stdout",
     "output_type": "stream",
     "text": [
      "VGG19\n",
      "\n",
      "For image: Ermis1.jpg\n",
      "Predicted breed is Norwegian_elkhound with prob: 34.11%\n",
      "Predicted breed is Siberian_husky with prob: 30.05%\n",
      "Predicted breed is Eskimo_dog with prob: 24.13%\n",
      "Predicted breed is malamute with prob: 5.05%\n",
      "Predicted breed is Pembroke with prob: 1.58%\n",
      "\n",
      "For image: jake2.jpg\n",
      "Predicted breed is Arctic_fox with prob: 56.84%\n",
      "Predicted breed is Eskimo_dog with prob: 13.77%\n",
      "Predicted breed is Siberian_husky with prob: 13.27%\n",
      "Predicted breed is Samoyed with prob: 9.54%\n",
      "Predicted breed is malamute with prob: 3.68%\n",
      "\n",
      "For image: jake1.jpg\n",
      "Predicted breed is Siberian_husky with prob: 34.57%\n",
      "Predicted breed is Eskimo_dog with prob: 19.69%\n",
      "Predicted breed is cougar with prob: 12.67%\n",
      "Predicted breed is Bedlington_terrier with prob: 6.14%\n",
      "Predicted breed is weasel with prob: 4.75%\n",
      "\n",
      "For image: Ermis2.JPG\n",
      "Predicted breed is kelpie with prob: 75.25%\n",
      "Predicted breed is Italian_greyhound with prob: 4.72%\n",
      "Predicted breed is wallaby with prob: 3.86%\n",
      "Predicted breed is malinois with prob: 1.83%\n",
      "Predicted breed is Border_collie with prob: 1.73%\n",
      "\n",
      "For image: Fred3.jpg\n",
      "Predicted breed is radiator with prob: 32.80%\n",
      "Predicted breed is quilt with prob: 19.68%\n",
      "Predicted breed is cradle with prob: 15.64%\n",
      "Predicted breed is pillow with prob: 4.96%\n",
      "Predicted breed is bassinet with prob: 4.60%\n",
      "\n",
      "For image: jake4.jpg\n",
      "Predicted breed is Bedlington_terrier with prob: 59.72%\n",
      "Predicted breed is white_wolf with prob: 8.86%\n",
      "Predicted breed is Arctic_fox with prob: 5.24%\n",
      "Predicted breed is kuvasz with prob: 4.11%\n",
      "Predicted breed is Saluki with prob: 3.54%\n",
      "\n",
      "For image: jake3.jpg\n",
      "Predicted breed is Siberian_husky with prob: 22.98%\n",
      "Predicted breed is Eskimo_dog with prob: 16.89%\n",
      "Predicted breed is French_bulldog with prob: 15.71%\n",
      "Predicted breed is Pembroke with prob: 13.91%\n",
      "Predicted breed is dingo with prob: 6.14%\n",
      "\n",
      "For image: Fred2.jpg\n",
      "Predicted breed is English_setter with prob: 67.86%\n",
      "Predicted breed is wire-haired_fox_terrier with prob: 20.11%\n",
      "Predicted breed is Lakeland_terrier with prob: 2.99%\n",
      "Predicted breed is Brittany_spaniel with prob: 2.27%\n",
      "Predicted breed is dalmatian with prob: 1.83%\n",
      "\n",
      "For image: Fred1.jpg\n",
      "Predicted breed is English_setter with prob: 25.40%\n",
      "Predicted breed is dalmatian with prob: 24.88%\n",
      "Predicted breed is Great_Dane with prob: 9.51%\n",
      "Predicted breed is whippet with prob: 5.57%\n",
      "Predicted breed is boxer with prob: 4.89%\n",
      "\n",
      "For image: Ermis3.jpg\n",
      "Predicted breed is Eskimo_dog with prob: 7.50%\n",
      "Predicted breed is Siberian_husky with prob: 6.86%\n",
      "Predicted breed is maze with prob: 6.73%\n",
      "Predicted breed is doormat with prob: 3.95%\n",
      "Predicted breed is Norwegian_elkhound with prob: 3.30%\n"
     ]
    }
   ],
   "source": [
    "print(\"VGG19\")\n",
    "classes = model.predict(images, batch_size=10)\n",
    "labels = decode_predictions(classes)\n",
    "\n",
    "for i, label in enumerate(labels):\n",
    "    print()\n",
    "    print(f\"For image: {filenames[i]}\")\n",
    "    for res in label:\n",
    "        print(f\"Predicted breed is {res[1]} with prob: {res[2]*100:.2f}%\")\n"
   ]
  },
  {
   "cell_type": "code",
   "execution_count": 8,
   "metadata": {
    "pycharm": {
     "name": "#%%\n"
    }
   },
   "outputs": [],
   "source": [
    "from keras.applications.resnet50 import ResNet50, preprocess_input, decode_predictions\n",
    "model = ResNet50(weights='imagenet')"
   ]
  },
  {
   "cell_type": "code",
   "execution_count": 9,
   "metadata": {
    "pycharm": {
     "name": "#%%\n"
    }
   },
   "outputs": [
    {
     "name": "stdout",
     "output_type": "stream",
     "text": [
      "ResNet50\n",
      "\n",
      "For image: Ermis1.jpg\n",
      "Predicted breed is Norwegian_elkhound with prob: 63.49%\n",
      "Predicted breed is Siberian_husky with prob: 20.14%\n",
      "Predicted breed is Eskimo_dog with prob: 9.06%\n",
      "Predicted breed is pug with prob: 2.01%\n",
      "Predicted breed is Cardigan with prob: 0.84%\n",
      "\n",
      "For image: jake2.jpg\n",
      "Predicted breed is Siberian_husky with prob: 51.29%\n",
      "Predicted breed is Arctic_fox with prob: 27.60%\n",
      "Predicted breed is Eskimo_dog with prob: 9.14%\n",
      "Predicted breed is Samoyed with prob: 4.94%\n",
      "Predicted breed is malamute with prob: 2.85%\n",
      "\n",
      "For image: jake1.jpg\n",
      "Predicted breed is Bedlington_terrier with prob: 38.91%\n",
      "Predicted breed is standard_poodle with prob: 24.76%\n",
      "Predicted breed is toy_poodle with prob: 11.61%\n",
      "Predicted breed is Arctic_fox with prob: 5.12%\n",
      "Predicted breed is weasel with prob: 3.25%\n",
      "\n",
      "For image: Ermis2.JPG\n",
      "Predicted breed is kelpie with prob: 56.97%\n",
      "Predicted breed is Border_collie with prob: 11.30%\n",
      "Predicted breed is malinois with prob: 8.49%\n",
      "Predicted breed is collie with prob: 5.53%\n",
      "Predicted breed is German_shepherd with prob: 5.13%\n",
      "\n",
      "For image: Fred3.jpg\n",
      "Predicted breed is French_bulldog with prob: 28.56%\n",
      "Predicted breed is quilt with prob: 15.96%\n",
      "Predicted breed is toy_terrier with prob: 14.55%\n",
      "Predicted breed is miniature_pinscher with prob: 6.78%\n",
      "Predicted breed is beagle with prob: 4.55%\n",
      "\n",
      "For image: jake4.jpg\n",
      "Predicted breed is Samoyed with prob: 75.14%\n",
      "Predicted breed is white_wolf with prob: 16.10%\n",
      "Predicted breed is Eskimo_dog with prob: 2.33%\n",
      "Predicted breed is kuvasz with prob: 1.44%\n",
      "Predicted breed is Arctic_fox with prob: 0.92%\n",
      "\n",
      "For image: jake3.jpg\n",
      "Predicted breed is Cardigan with prob: 25.97%\n",
      "Predicted breed is Pembroke with prob: 21.02%\n",
      "Predicted breed is Siberian_husky with prob: 12.14%\n",
      "Predicted breed is dingo with prob: 6.53%\n",
      "Predicted breed is kelpie with prob: 5.94%\n",
      "\n",
      "For image: Fred2.jpg\n",
      "Predicted breed is English_setter with prob: 78.25%\n",
      "Predicted breed is wire-haired_fox_terrier with prob: 5.83%\n",
      "Predicted breed is soft-coated_wheaten_terrier with prob: 2.97%\n",
      "Predicted breed is Lakeland_terrier with prob: 2.10%\n",
      "Predicted breed is standard_poodle with prob: 2.03%\n",
      "\n",
      "For image: Fred1.jpg\n",
      "Predicted breed is English_setter with prob: 99.30%\n",
      "Predicted breed is English_foxhound with prob: 0.26%\n",
      "Predicted breed is bluetick with prob: 0.07%\n",
      "Predicted breed is beagle with prob: 0.07%\n",
      "Predicted breed is basset with prob: 0.03%\n",
      "\n",
      "For image: Ermis3.jpg\n",
      "Predicted breed is wire-haired_fox_terrier with prob: 22.40%\n",
      "Predicted breed is kelpie with prob: 12.74%\n",
      "Predicted breed is malinois with prob: 11.65%\n",
      "Predicted breed is Lakeland_terrier with prob: 5.24%\n",
      "Predicted breed is German_short-haired_pointer with prob: 3.28%\n"
     ]
    }
   ],
   "source": [
    "print(\"ResNet50\")\n",
    "classes = model.predict(images, batch_size=10)\n",
    "labels = decode_predictions(classes)\n",
    "\n",
    "for i, label in enumerate(labels):\n",
    "    print()\n",
    "    print(f\"For image: {filenames[i]}\")\n",
    "    for res in label:\n",
    "        print(f\"Predicted breed is {res[1]} with prob: {res[2]*100:.2f}%\")"
   ]
  },
  {
   "cell_type": "code",
   "execution_count": 10,
   "metadata": {
    "pycharm": {
     "name": "#%%\n"
    }
   },
   "outputs": [],
   "source": [
    "from keras.applications.xception import Xception, preprocess_input, decode_predictions\n",
    "model = Xception(weights='imagenet')\n"
   ]
  },
  {
   "cell_type": "code",
   "execution_count": 11,
   "metadata": {
    "pycharm": {
     "name": "#%%\n"
    }
   },
   "outputs": [
    {
     "name": "stdout",
     "output_type": "stream",
     "text": [
      "Xception\n",
      "WARNING:tensorflow:Model was constructed with shape (None, 299, 299, 3) for input Tensor(\"input_4:0\", shape=(None, 299, 299, 3), dtype=float32), but it was called on an input with incompatible shape (10, 224, 224, 3).\n",
      "\n",
      "For image: Ermis1.jpg\n",
      "Predicted breed is tripod with prob: 96.75%\n",
      "Predicted breed is scoreboard with prob: 3.11%\n",
      "Predicted breed is mixing_bowl with prob: 0.13%\n",
      "Predicted breed is abacus with prob: 0.01%\n",
      "Predicted breed is table_lamp with prob: 0.00%\n",
      "\n",
      "For image: jake2.jpg\n",
      "Predicted breed is scoreboard with prob: 93.38%\n",
      "Predicted breed is mixing_bowl with prob: 6.62%\n",
      "Predicted breed is sunglasses with prob: 0.00%\n",
      "Predicted breed is ping-pong_ball with prob: 0.00%\n",
      "Predicted breed is ballpoint with prob: 0.00%\n",
      "\n",
      "For image: jake1.jpg\n",
      "Predicted breed is ping-pong_ball with prob: 99.99%\n",
      "Predicted breed is carton with prob: 0.01%\n",
      "Predicted breed is abaya with prob: 0.00%\n",
      "Predicted breed is tow_truck with prob: 0.00%\n",
      "Predicted breed is oxcart with prob: 0.00%\n",
      "\n",
      "For image: Ermis2.JPG\n",
      "Predicted breed is conch with prob: 81.38%\n",
      "Predicted breed is Chihuahua with prob: 6.28%\n",
      "Predicted breed is jeep with prob: 3.71%\n",
      "Predicted breed is spiny_lobster with prob: 3.19%\n",
      "Predicted breed is necklace with prob: 2.30%\n",
      "\n",
      "For image: Fred3.jpg\n",
      "Predicted breed is ping-pong_ball with prob: 40.22%\n",
      "Predicted breed is bulletproof_vest with prob: 33.56%\n",
      "Predicted breed is military_uniform with prob: 16.71%\n",
      "Predicted breed is crib with prob: 7.20%\n",
      "Predicted breed is nipple with prob: 0.79%\n",
      "\n",
      "For image: jake4.jpg\n",
      "Predicted breed is sea_urchin with prob: 89.19%\n",
      "Predicted breed is screw with prob: 10.81%\n",
      "Predicted breed is dowitcher with prob: 0.01%\n",
      "Predicted breed is abacus with prob: 0.00%\n",
      "Predicted breed is redshank with prob: 0.00%\n",
      "\n",
      "For image: jake3.jpg\n",
      "Predicted breed is mixing_bowl with prob: 100.00%\n",
      "Predicted breed is ping-pong_ball with prob: 0.00%\n",
      "Predicted breed is safety_pin with prob: 0.00%\n",
      "Predicted breed is cup with prob: 0.00%\n",
      "Predicted breed is sunscreen with prob: 0.00%\n",
      "\n",
      "For image: Fred2.jpg\n",
      "Predicted breed is military_uniform with prob: 88.72%\n",
      "Predicted breed is screw with prob: 11.01%\n",
      "Predicted breed is abacus with prob: 0.22%\n",
      "Predicted breed is bannister with prob: 0.02%\n",
      "Predicted breed is coil with prob: 0.02%\n",
      "\n",
      "For image: Fred1.jpg\n",
      "Predicted breed is military_uniform with prob: 99.34%\n",
      "Predicted breed is bannister with prob: 0.22%\n",
      "Predicted breed is ping-pong_ball with prob: 0.18%\n",
      "Predicted breed is nipple with prob: 0.09%\n",
      "Predicted breed is abacus with prob: 0.09%\n",
      "\n",
      "For image: Ermis3.jpg\n",
      "Predicted breed is abacus with prob: 70.37%\n",
      "Predicted breed is ping-pong_ball with prob: 29.63%\n",
      "Predicted breed is mixing_bowl with prob: 0.00%\n",
      "Predicted breed is carousel with prob: 0.00%\n",
      "Predicted breed is crib with prob: 0.00%\n"
     ]
    }
   ],
   "source": [
    "print(\"Xception\")\n",
    "classes = model.predict(images, batch_size=10)\n",
    "labels = decode_predictions(classes)\n",
    "\n",
    "for i, label in enumerate(labels):\n",
    "    print()\n",
    "    print(f\"For image: {filenames[i]}\")\n",
    "    for res in label:\n",
    "        print(f\"Predicted breed is {res[1]} with prob: {res[2]*100:.2f}%\")"
   ]
  },
  {
   "cell_type": "markdown",
   "metadata": {
    "pycharm": {
     "name": "#%% md\n"
    }
   },
   "source": [
    "VGG19 seems to best classify Jake's breed so we will go with those results"
   ]
  }
 ],
 "metadata": {
  "kernelspec": {
   "display_name": "Python 3",
   "language": "python",
   "name": "python3"
  },
  "language_info": {
   "codemirror_mode": {
    "name": "ipython",
    "version": 3
   },
   "file_extension": ".py",
   "mimetype": "text/x-python",
   "name": "python",
   "nbconvert_exporter": "python",
   "pygments_lexer": "ipython3",
   "version": "3.8.2"
  }
 },
 "nbformat": 4,
 "nbformat_minor": 1
}