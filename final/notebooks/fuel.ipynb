{
 "cells": [
  {
   "cell_type": "markdown",
   "metadata": {
    "collapsed": true,
    "pycharm": {
     "name": "#%% md\n"
    }
   },
   "source": [
    "# Fuel Emissions Prediction\n",
    "\n",
    "This task calls for the prediction of fuel emissions at 12.000 miles for different vehicles. We will train different\n",
    "regression machine learning models and attempt to evaluate our solutions via relevant metrics\n",
    "\n",
    "We begin with the necessary import, plus a random state for reproducible results"
   ]
  },
  {
   "cell_type": "code",
   "execution_count": 26,
   "metadata": {
    "pycharm": {
     "name": "#%%\n"
    }
   },
   "outputs": [],
   "source": [
    "import pandas as pd\n",
    "import numpy as np\n",
    "from scipy.stats import skew\n",
    "from sklearn import model_selection, metrics\n",
    "from sklearn.ensemble import RandomForestRegressor\n",
    "from sklearn.impute import KNNImputer, SimpleImputer\n",
    "from sklearn.linear_model import LinearRegression\n",
    "from sklearn.preprocessing import StandardScaler\n",
    "from scipy import stats\n",
    "from xgboost import XGBRegressor\n",
    "\n",
    "RANDOM_STATE = 42"
   ]
  },
  {
   "cell_type": "code",
   "execution_count": 27,
   "metadata": {
    "pycharm": {
     "name": "#%%\n"
    }
   },
   "outputs": [
    {
     "name": "stderr",
     "output_type": "stream",
     "text": [
      "/home/georg/miniconda3/envs/ML-Assignments/lib/python3.8/site-packages/IPython/core/interactiveshell.py:3145: DtypeWarning: Columns (8) have mixed types.Specify dtype option on import or set low_memory=False.\n",
      "  has_raised = await self.run_ast_nodes(code_ast.body, cell_name,\n"
     ]
    }
   ],
   "source": [
    "df = pd.read_csv(\"../input/fuel_emissions.csv\")"
   ]
  },
  {
   "cell_type": "markdown",
   "metadata": {
    "pycharm": {
     "name": "#%% md\n"
    }
   },
   "source": [
    "## Data analysis\n"
   ]
  },
  {
   "cell_type": "code",
   "execution_count": 28,
   "metadata": {
    "pycharm": {
     "name": "#%%\n"
    }
   },
   "outputs": [
    {
     "data": {
      "text/html": [
       "<div>\n",
       "<style scoped>\n",
       "    .dataframe tbody tr th:only-of-type {\n",
       "        vertical-align: middle;\n",
       "    }\n",
       "\n",
       "    .dataframe tbody tr th {\n",
       "        vertical-align: top;\n",
       "    }\n",
       "\n",
       "    .dataframe thead th {\n",
       "        text-align: right;\n",
       "    }\n",
       "</style>\n",
       "<table border=\"1\" class=\"dataframe\">\n",
       "  <thead>\n",
       "    <tr style=\"text-align: right;\">\n",
       "      <th></th>\n",
       "      <th>file</th>\n",
       "      <th>year</th>\n",
       "      <th>manufacturer</th>\n",
       "      <th>model</th>\n",
       "      <th>description</th>\n",
       "      <th>euro_standard</th>\n",
       "      <th>tax_band</th>\n",
       "      <th>transmission</th>\n",
       "      <th>transmission_type</th>\n",
       "      <th>engine_capacity</th>\n",
       "      <th>...</th>\n",
       "      <th>thc_emissions</th>\n",
       "      <th>co_emissions</th>\n",
       "      <th>nox_emissions</th>\n",
       "      <th>thc_nox_emissions</th>\n",
       "      <th>particulates_emissions</th>\n",
       "      <th>fuel_cost_12000_miles</th>\n",
       "      <th>standard_12_months</th>\n",
       "      <th>standard_6_months</th>\n",
       "      <th>first_year_12_months</th>\n",
       "      <th>first_year_6_months</th>\n",
       "    </tr>\n",
       "  </thead>\n",
       "  <tbody>\n",
       "    <tr>\n",
       "      <th>0</th>\n",
       "      <td>Part_A_Euro_IV_may2005.csv</td>\n",
       "      <td>2005</td>\n",
       "      <td>BMW</td>\n",
       "      <td>1 Series E87</td>\n",
       "      <td>116i</td>\n",
       "      <td>4</td>\n",
       "      <td>NaN</td>\n",
       "      <td>M5</td>\n",
       "      <td>Manual</td>\n",
       "      <td>1596.0</td>\n",
       "      <td>...</td>\n",
       "      <td>NaN</td>\n",
       "      <td>260.0</td>\n",
       "      <td>35.0</td>\n",
       "      <td>NaN</td>\n",
       "      <td>NaN</td>\n",
       "      <td>1158.0</td>\n",
       "      <td>NaN</td>\n",
       "      <td>NaN</td>\n",
       "      <td>NaN</td>\n",
       "      <td>NaN</td>\n",
       "    </tr>\n",
       "    <tr>\n",
       "      <th>1</th>\n",
       "      <td>Part_A_Euro_IV_may2005.csv</td>\n",
       "      <td>2005</td>\n",
       "      <td>BMW</td>\n",
       "      <td>1 Series E87</td>\n",
       "      <td>118d - from March 2005</td>\n",
       "      <td>4</td>\n",
       "      <td>NaN</td>\n",
       "      <td>M6</td>\n",
       "      <td>Manual</td>\n",
       "      <td>1995.0</td>\n",
       "      <td>...</td>\n",
       "      <td>NaN</td>\n",
       "      <td>290.0</td>\n",
       "      <td>166.0</td>\n",
       "      <td>NaN</td>\n",
       "      <td>17.0</td>\n",
       "      <td>422.0</td>\n",
       "      <td>NaN</td>\n",
       "      <td>NaN</td>\n",
       "      <td>NaN</td>\n",
       "      <td>NaN</td>\n",
       "    </tr>\n",
       "    <tr>\n",
       "      <th>2</th>\n",
       "      <td>Part_A_Euro_IV_may2005.csv</td>\n",
       "      <td>2005</td>\n",
       "      <td>BMW</td>\n",
       "      <td>1 Series E87</td>\n",
       "      <td>118d - up to February 2005</td>\n",
       "      <td>4</td>\n",
       "      <td>NaN</td>\n",
       "      <td>M6</td>\n",
       "      <td>Manual</td>\n",
       "      <td>1995.0</td>\n",
       "      <td>...</td>\n",
       "      <td>NaN</td>\n",
       "      <td>319.0</td>\n",
       "      <td>166.0</td>\n",
       "      <td>NaN</td>\n",
       "      <td>21.0</td>\n",
       "      <td>422.0</td>\n",
       "      <td>NaN</td>\n",
       "      <td>NaN</td>\n",
       "      <td>NaN</td>\n",
       "      <td>NaN</td>\n",
       "    </tr>\n",
       "    <tr>\n",
       "      <th>3</th>\n",
       "      <td>Part_A_Euro_IV_may2005.csv</td>\n",
       "      <td>2005</td>\n",
       "      <td>BMW</td>\n",
       "      <td>1 Series E87</td>\n",
       "      <td>118i</td>\n",
       "      <td>4</td>\n",
       "      <td>NaN</td>\n",
       "      <td>M5</td>\n",
       "      <td>Manual</td>\n",
       "      <td>1995.0</td>\n",
       "      <td>...</td>\n",
       "      <td>NaN</td>\n",
       "      <td>511.0</td>\n",
       "      <td>7.0</td>\n",
       "      <td>NaN</td>\n",
       "      <td>NaN</td>\n",
       "      <td>1128.0</td>\n",
       "      <td>NaN</td>\n",
       "      <td>NaN</td>\n",
       "      <td>NaN</td>\n",
       "      <td>NaN</td>\n",
       "    </tr>\n",
       "    <tr>\n",
       "      <th>4</th>\n",
       "      <td>Part_A_Euro_IV_may2005.csv</td>\n",
       "      <td>2005</td>\n",
       "      <td>BMW</td>\n",
       "      <td>1 Series E87</td>\n",
       "      <td>118i</td>\n",
       "      <td>4</td>\n",
       "      <td>NaN</td>\n",
       "      <td>A6</td>\n",
       "      <td>Automatic</td>\n",
       "      <td>1995.0</td>\n",
       "      <td>...</td>\n",
       "      <td>NaN</td>\n",
       "      <td>383.0</td>\n",
       "      <td>15.0</td>\n",
       "      <td>NaN</td>\n",
       "      <td>NaN</td>\n",
       "      <td>1206.0</td>\n",
       "      <td>NaN</td>\n",
       "      <td>NaN</td>\n",
       "      <td>NaN</td>\n",
       "      <td>NaN</td>\n",
       "    </tr>\n",
       "  </tbody>\n",
       "</table>\n",
       "<p>5 rows × 29 columns</p>\n",
       "</div>"
      ],
      "text/plain": [
       "                         file  year manufacturer         model  \\\n",
       "0  Part_A_Euro_IV_may2005.csv  2005          BMW  1 Series E87   \n",
       "1  Part_A_Euro_IV_may2005.csv  2005          BMW  1 Series E87   \n",
       "2  Part_A_Euro_IV_may2005.csv  2005          BMW  1 Series E87   \n",
       "3  Part_A_Euro_IV_may2005.csv  2005          BMW  1 Series E87   \n",
       "4  Part_A_Euro_IV_may2005.csv  2005          BMW  1 Series E87   \n",
       "\n",
       "                  description  euro_standard tax_band transmission  \\\n",
       "0                        116i              4      NaN           M5   \n",
       "1      118d - from March 2005              4      NaN           M6   \n",
       "2  118d - up to February 2005              4      NaN           M6   \n",
       "3                        118i              4      NaN           M5   \n",
       "4                        118i              4      NaN           A6   \n",
       "\n",
       "  transmission_type  engine_capacity  ... thc_emissions  co_emissions  \\\n",
       "0            Manual           1596.0  ...           NaN         260.0   \n",
       "1            Manual           1995.0  ...           NaN         290.0   \n",
       "2            Manual           1995.0  ...           NaN         319.0   \n",
       "3            Manual           1995.0  ...           NaN         511.0   \n",
       "4         Automatic           1995.0  ...           NaN         383.0   \n",
       "\n",
       "   nox_emissions  thc_nox_emissions  particulates_emissions  \\\n",
       "0           35.0                NaN                     NaN   \n",
       "1          166.0                NaN                    17.0   \n",
       "2          166.0                NaN                    21.0   \n",
       "3            7.0                NaN                     NaN   \n",
       "4           15.0                NaN                     NaN   \n",
       "\n",
       "   fuel_cost_12000_miles  standard_12_months  standard_6_months  \\\n",
       "0                 1158.0                 NaN                NaN   \n",
       "1                  422.0                 NaN                NaN   \n",
       "2                  422.0                 NaN                NaN   \n",
       "3                 1128.0                 NaN                NaN   \n",
       "4                 1206.0                 NaN                NaN   \n",
       "\n",
       "   first_year_12_months  first_year_6_months  \n",
       "0                   NaN                  NaN  \n",
       "1                   NaN                  NaN  \n",
       "2                   NaN                  NaN  \n",
       "3                   NaN                  NaN  \n",
       "4                   NaN                  NaN  \n",
       "\n",
       "[5 rows x 29 columns]"
      ]
     },
     "execution_count": 28,
     "metadata": {},
     "output_type": "execute_result"
    }
   ],
   "source": [
    "df.head()"
   ]
  },
  {
   "cell_type": "code",
   "execution_count": 29,
   "metadata": {
    "pycharm": {
     "name": "#%%\n"
    }
   },
   "outputs": [
    {
     "name": "stdout",
     "output_type": "stream",
     "text": [
      "<class 'pandas.core.frame.DataFrame'>\n",
      "RangeIndex: 33088 entries, 0 to 33087\n",
      "Data columns (total 29 columns):\n",
      " #   Column                  Non-Null Count  Dtype  \n",
      "---  ------                  --------------  -----  \n",
      " 0   file                    33088 non-null  object \n",
      " 1   year                    33088 non-null  int64  \n",
      " 2   manufacturer            33088 non-null  object \n",
      " 3   model                   33088 non-null  object \n",
      " 4   description             33088 non-null  object \n",
      " 5   euro_standard           33088 non-null  int64  \n",
      " 6   tax_band                7837 non-null   object \n",
      " 7   transmission            33078 non-null  object \n",
      " 8   transmission_type       32747 non-null  object \n",
      " 9   engine_capacity         33081 non-null  float64\n",
      " 10  fuel_type               33088 non-null  object \n",
      " 11  urban_metric            33075 non-null  float64\n",
      " 12  extra_urban_metric      33075 non-null  float64\n",
      " 13  combined_metric         33081 non-null  float64\n",
      " 14  urban_imperial          33075 non-null  float64\n",
      " 15  extra_urban_imperial    33075 non-null  float64\n",
      " 16  combined_imperial       33081 non-null  float64\n",
      " 17  noise_level             33088 non-null  float64\n",
      " 18  co2                     33088 non-null  int64  \n",
      " 19  thc_emissions           16489 non-null  float64\n",
      " 20  co_emissions            33064 non-null  float64\n",
      " 21  nox_emissions           33018 non-null  float64\n",
      " 22  thc_nox_emissions       5430 non-null   float64\n",
      " 23  particulates_emissions  13176 non-null  float64\n",
      " 24  fuel_cost_12000_miles   33078 non-null  float64\n",
      " 25  standard_12_months      3517 non-null   float64\n",
      " 26  standard_6_months       2926 non-null   float64\n",
      " 27  first_year_12_months    3517 non-null   float64\n",
      " 28  first_year_6_months     1419 non-null   float64\n",
      "dtypes: float64(18), int64(3), object(8)\n",
      "memory usage: 7.3+ MB\n"
     ]
    },
    {
     "data": {
      "text/plain": [
       "file                         19\n",
       "year                          9\n",
       "manufacturer                 60\n",
       "model                      2111\n",
       "description               11811\n",
       "euro_standard                 4\n",
       "tax_band                     13\n",
       "transmission                 74\n",
       "transmission_type             2\n",
       "engine_capacity             378\n",
       "fuel_type                    13\n",
       "urban_metric                245\n",
       "extra_urban_metric          121\n",
       "combined_metric             165\n",
       "urban_imperial              323\n",
       "extra_urban_imperial        296\n",
       "combined_imperial           319\n",
       "noise_level                  99\n",
       "co2                         335\n",
       "thc_emissions               304\n",
       "co_emissions               1246\n",
       "nox_emissions               821\n",
       "thc_nox_emissions           185\n",
       "particulates_emissions      279\n",
       "fuel_cost_12000_miles      1841\n",
       "standard_12_months           13\n",
       "standard_6_months            10\n",
       "first_year_12_months         10\n",
       "first_year_6_months           3\n",
       "dtype: int64"
      ]
     },
     "execution_count": 29,
     "metadata": {},
     "output_type": "execute_result"
    }
   ],
   "source": [
    "df.info()\n",
    "df.nunique()"
   ]
  },
  {
   "cell_type": "markdown",
   "metadata": {
    "pycharm": {
     "name": "#%% md\n"
    }
   },
   "source": [
    "Our dataset consists of 33088 observations with 29 features. We can observe different types of features.\n",
    "- Redundant features such as *file* or *description* can safely be dropped since they convey no relevant information\n",
    "to the task\n",
    "- There exist many categorical features, i.e. *manufacturer* or *transmission*\n",
    "\n",
    "Certain features exhibit a wide range of values, like the categorical *model* that has over 2k discrete values and will\n",
    "be challenging to be transformed\n"
   ]
  },
  {
   "cell_type": "code",
   "execution_count": 30,
   "metadata": {
    "pycharm": {
     "name": "#%%\n"
    }
   },
   "outputs": [
    {
     "data": {
      "text/plain": [
       "file                          0\n",
       "year                          0\n",
       "manufacturer                  0\n",
       "model                         0\n",
       "description                   0\n",
       "euro_standard                 0\n",
       "tax_band                  25251\n",
       "transmission                 10\n",
       "transmission_type           341\n",
       "engine_capacity               7\n",
       "fuel_type                     0\n",
       "urban_metric                 13\n",
       "extra_urban_metric           13\n",
       "combined_metric               7\n",
       "urban_imperial               13\n",
       "extra_urban_imperial         13\n",
       "combined_imperial             7\n",
       "noise_level                   0\n",
       "co2                           0\n",
       "thc_emissions             16599\n",
       "co_emissions                 24\n",
       "nox_emissions                70\n",
       "thc_nox_emissions         27658\n",
       "particulates_emissions    19912\n",
       "fuel_cost_12000_miles        10\n",
       "standard_12_months        29571\n",
       "standard_6_months         30162\n",
       "first_year_12_months      29571\n",
       "first_year_6_months       31669\n",
       "dtype: int64"
      ]
     },
     "execution_count": 30,
     "metadata": {},
     "output_type": "execute_result"
    }
   ],
   "source": [
    "df.isnull().sum()"
   ]
  },
  {
   "cell_type": "markdown",
   "metadata": {
    "pycharm": {
     "name": "#%% md\n"
    }
   },
   "source": [
    "Our dataset has a large number of missing values on many features. We will attempt to better illustrate this as a\n",
    "percentage of missing values, per column/feature\n"
   ]
  },
  {
   "cell_type": "code",
   "execution_count": 31,
   "metadata": {
    "pycharm": {
     "name": "#%%\n"
    }
   },
   "outputs": [],
   "source": [
    "def get_missing(data):\n",
    "    missing_percentage = (data.isnull().sum() / len(df)) * 100\n",
    "    missing_df = pd.DataFrame({'Missing %': missing_percentage})\n",
    "    missing_df =  missing_df.sort_values(by='Missing %', ascending=False)\n",
    "    missing_df['Missing %'] = missing_df['Missing %'].round(2)\n",
    "\n",
    "    return missing_df\n"
   ]
  },
  {
   "cell_type": "code",
   "execution_count": 32,
   "metadata": {
    "pycharm": {
     "name": "#%%\n"
    }
   },
   "outputs": [
    {
     "data": {
      "text/html": [
       "<div>\n",
       "<style scoped>\n",
       "    .dataframe tbody tr th:only-of-type {\n",
       "        vertical-align: middle;\n",
       "    }\n",
       "\n",
       "    .dataframe tbody tr th {\n",
       "        vertical-align: top;\n",
       "    }\n",
       "\n",
       "    .dataframe thead th {\n",
       "        text-align: right;\n",
       "    }\n",
       "</style>\n",
       "<table border=\"1\" class=\"dataframe\">\n",
       "  <thead>\n",
       "    <tr style=\"text-align: right;\">\n",
       "      <th></th>\n",
       "      <th>Missing %</th>\n",
       "    </tr>\n",
       "  </thead>\n",
       "  <tbody>\n",
       "    <tr>\n",
       "      <th>first_year_6_months</th>\n",
       "      <td>95.71</td>\n",
       "    </tr>\n",
       "    <tr>\n",
       "      <th>standard_6_months</th>\n",
       "      <td>91.16</td>\n",
       "    </tr>\n",
       "    <tr>\n",
       "      <th>first_year_12_months</th>\n",
       "      <td>89.37</td>\n",
       "    </tr>\n",
       "    <tr>\n",
       "      <th>standard_12_months</th>\n",
       "      <td>89.37</td>\n",
       "    </tr>\n",
       "    <tr>\n",
       "      <th>thc_nox_emissions</th>\n",
       "      <td>83.59</td>\n",
       "    </tr>\n",
       "    <tr>\n",
       "      <th>tax_band</th>\n",
       "      <td>76.31</td>\n",
       "    </tr>\n",
       "    <tr>\n",
       "      <th>particulates_emissions</th>\n",
       "      <td>60.18</td>\n",
       "    </tr>\n",
       "    <tr>\n",
       "      <th>thc_emissions</th>\n",
       "      <td>50.17</td>\n",
       "    </tr>\n",
       "    <tr>\n",
       "      <th>transmission_type</th>\n",
       "      <td>1.03</td>\n",
       "    </tr>\n",
       "    <tr>\n",
       "      <th>nox_emissions</th>\n",
       "      <td>0.21</td>\n",
       "    </tr>\n",
       "    <tr>\n",
       "      <th>co_emissions</th>\n",
       "      <td>0.07</td>\n",
       "    </tr>\n",
       "    <tr>\n",
       "      <th>extra_urban_imperial</th>\n",
       "      <td>0.04</td>\n",
       "    </tr>\n",
       "    <tr>\n",
       "      <th>urban_imperial</th>\n",
       "      <td>0.04</td>\n",
       "    </tr>\n",
       "    <tr>\n",
       "      <th>extra_urban_metric</th>\n",
       "      <td>0.04</td>\n",
       "    </tr>\n",
       "    <tr>\n",
       "      <th>urban_metric</th>\n",
       "      <td>0.04</td>\n",
       "    </tr>\n",
       "    <tr>\n",
       "      <th>transmission</th>\n",
       "      <td>0.03</td>\n",
       "    </tr>\n",
       "    <tr>\n",
       "      <th>fuel_cost_12000_miles</th>\n",
       "      <td>0.03</td>\n",
       "    </tr>\n",
       "    <tr>\n",
       "      <th>combined_metric</th>\n",
       "      <td>0.02</td>\n",
       "    </tr>\n",
       "    <tr>\n",
       "      <th>combined_imperial</th>\n",
       "      <td>0.02</td>\n",
       "    </tr>\n",
       "    <tr>\n",
       "      <th>engine_capacity</th>\n",
       "      <td>0.02</td>\n",
       "    </tr>\n",
       "    <tr>\n",
       "      <th>year</th>\n",
       "      <td>0.00</td>\n",
       "    </tr>\n",
       "    <tr>\n",
       "      <th>noise_level</th>\n",
       "      <td>0.00</td>\n",
       "    </tr>\n",
       "    <tr>\n",
       "      <th>co2</th>\n",
       "      <td>0.00</td>\n",
       "    </tr>\n",
       "    <tr>\n",
       "      <th>fuel_type</th>\n",
       "      <td>0.00</td>\n",
       "    </tr>\n",
       "    <tr>\n",
       "      <th>euro_standard</th>\n",
       "      <td>0.00</td>\n",
       "    </tr>\n",
       "    <tr>\n",
       "      <th>description</th>\n",
       "      <td>0.00</td>\n",
       "    </tr>\n",
       "    <tr>\n",
       "      <th>model</th>\n",
       "      <td>0.00</td>\n",
       "    </tr>\n",
       "    <tr>\n",
       "      <th>manufacturer</th>\n",
       "      <td>0.00</td>\n",
       "    </tr>\n",
       "    <tr>\n",
       "      <th>file</th>\n",
       "      <td>0.00</td>\n",
       "    </tr>\n",
       "  </tbody>\n",
       "</table>\n",
       "</div>"
      ],
      "text/plain": [
       "                        Missing %\n",
       "first_year_6_months         95.71\n",
       "standard_6_months           91.16\n",
       "first_year_12_months        89.37\n",
       "standard_12_months          89.37\n",
       "thc_nox_emissions           83.59\n",
       "tax_band                    76.31\n",
       "particulates_emissions      60.18\n",
       "thc_emissions               50.17\n",
       "transmission_type            1.03\n",
       "nox_emissions                0.21\n",
       "co_emissions                 0.07\n",
       "extra_urban_imperial         0.04\n",
       "urban_imperial               0.04\n",
       "extra_urban_metric           0.04\n",
       "urban_metric                 0.04\n",
       "transmission                 0.03\n",
       "fuel_cost_12000_miles        0.03\n",
       "combined_metric              0.02\n",
       "combined_imperial            0.02\n",
       "engine_capacity              0.02\n",
       "year                         0.00\n",
       "noise_level                  0.00\n",
       "co2                          0.00\n",
       "fuel_type                    0.00\n",
       "euro_standard                0.00\n",
       "description                  0.00\n",
       "model                        0.00\n",
       "manufacturer                 0.00\n",
       "file                         0.00"
      ]
     },
     "execution_count": 32,
     "metadata": {},
     "output_type": "execute_result"
    }
   ],
   "source": [
    "missing = get_missing(df)\n",
    "missing.head(29)\n"
   ]
  },
  {
   "cell_type": "markdown",
   "metadata": {
    "pycharm": {
     "name": "#%% md\n"
    }
   },
   "source": [
    "As is easily observable a significant number of features misses over 50% of its values. There is no gain in\n",
    "attempting to remedy so many missing values. So these features will be dropped, alongside the already mentioned\n",
    "redundant-in-context features.\n"
   ]
  },
  {
   "cell_type": "code",
   "execution_count": 33,
   "metadata": {
    "pycharm": {
     "name": "#%%\n"
    }
   },
   "outputs": [],
   "source": [
    "to_drop = [\n",
    "    'file',\n",
    "    'description',\n",
    "    'first_year_6_months',\n",
    "    'standard_6_months',\n",
    "    'first_year_12_months',\n",
    "    'standard_12_months',\n",
    "    'thc_nox_emissions',\n",
    "    'tax_band',\n",
    "    'particulates_emissions',\n",
    "    'thc_emissions'\n",
    "]\n",
    "\n",
    "df.drop(to_drop, axis=1, inplace=True)"
   ]
  },
  {
   "cell_type": "code",
   "execution_count": 34,
   "metadata": {
    "pycharm": {
     "name": "#%%\n"
    }
   },
   "outputs": [
    {
     "data": {
      "text/html": [
       "<div>\n",
       "<style scoped>\n",
       "    .dataframe tbody tr th:only-of-type {\n",
       "        vertical-align: middle;\n",
       "    }\n",
       "\n",
       "    .dataframe tbody tr th {\n",
       "        vertical-align: top;\n",
       "    }\n",
       "\n",
       "    .dataframe thead th {\n",
       "        text-align: right;\n",
       "    }\n",
       "</style>\n",
       "<table border=\"1\" class=\"dataframe\">\n",
       "  <thead>\n",
       "    <tr style=\"text-align: right;\">\n",
       "      <th></th>\n",
       "      <th>Missing %</th>\n",
       "    </tr>\n",
       "  </thead>\n",
       "  <tbody>\n",
       "    <tr>\n",
       "      <th>transmission_type</th>\n",
       "      <td>1.03</td>\n",
       "    </tr>\n",
       "    <tr>\n",
       "      <th>nox_emissions</th>\n",
       "      <td>0.21</td>\n",
       "    </tr>\n",
       "    <tr>\n",
       "      <th>co_emissions</th>\n",
       "      <td>0.07</td>\n",
       "    </tr>\n",
       "    <tr>\n",
       "      <th>extra_urban_metric</th>\n",
       "      <td>0.04</td>\n",
       "    </tr>\n",
       "    <tr>\n",
       "      <th>urban_metric</th>\n",
       "      <td>0.04</td>\n",
       "    </tr>\n",
       "    <tr>\n",
       "      <th>extra_urban_imperial</th>\n",
       "      <td>0.04</td>\n",
       "    </tr>\n",
       "    <tr>\n",
       "      <th>urban_imperial</th>\n",
       "      <td>0.04</td>\n",
       "    </tr>\n",
       "    <tr>\n",
       "      <th>fuel_cost_12000_miles</th>\n",
       "      <td>0.03</td>\n",
       "    </tr>\n",
       "    <tr>\n",
       "      <th>transmission</th>\n",
       "      <td>0.03</td>\n",
       "    </tr>\n",
       "    <tr>\n",
       "      <th>combined_metric</th>\n",
       "      <td>0.02</td>\n",
       "    </tr>\n",
       "    <tr>\n",
       "      <th>engine_capacity</th>\n",
       "      <td>0.02</td>\n",
       "    </tr>\n",
       "    <tr>\n",
       "      <th>combined_imperial</th>\n",
       "      <td>0.02</td>\n",
       "    </tr>\n",
       "    <tr>\n",
       "      <th>fuel_type</th>\n",
       "      <td>0.00</td>\n",
       "    </tr>\n",
       "    <tr>\n",
       "      <th>manufacturer</th>\n",
       "      <td>0.00</td>\n",
       "    </tr>\n",
       "    <tr>\n",
       "      <th>noise_level</th>\n",
       "      <td>0.00</td>\n",
       "    </tr>\n",
       "    <tr>\n",
       "      <th>co2</th>\n",
       "      <td>0.00</td>\n",
       "    </tr>\n",
       "    <tr>\n",
       "      <th>euro_standard</th>\n",
       "      <td>0.00</td>\n",
       "    </tr>\n",
       "    <tr>\n",
       "      <th>model</th>\n",
       "      <td>0.00</td>\n",
       "    </tr>\n",
       "    <tr>\n",
       "      <th>year</th>\n",
       "      <td>0.00</td>\n",
       "    </tr>\n",
       "  </tbody>\n",
       "</table>\n",
       "</div>"
      ],
      "text/plain": [
       "                       Missing %\n",
       "transmission_type           1.03\n",
       "nox_emissions               0.21\n",
       "co_emissions                0.07\n",
       "extra_urban_metric          0.04\n",
       "urban_metric                0.04\n",
       "extra_urban_imperial        0.04\n",
       "urban_imperial              0.04\n",
       "fuel_cost_12000_miles       0.03\n",
       "transmission                0.03\n",
       "combined_metric             0.02\n",
       "engine_capacity             0.02\n",
       "combined_imperial           0.02\n",
       "fuel_type                   0.00\n",
       "manufacturer                0.00\n",
       "noise_level                 0.00\n",
       "co2                         0.00\n",
       "euro_standard               0.00\n",
       "model                       0.00\n",
       "year                        0.00"
      ]
     },
     "execution_count": 34,
     "metadata": {},
     "output_type": "execute_result"
    }
   ],
   "source": [
    "missing = get_missing(df)\n",
    "missing.head(20)"
   ]
  },
  {
   "cell_type": "markdown",
   "metadata": {
    "pycharm": {
     "name": "#%% md\n"
    }
   },
   "source": [
    "This leaves the dataset with a reduced number of features, but more manageable shortcomings. There still exist\n",
    "missing values but at a rate that can be easily imputed/filled."
   ]
  },
  {
   "cell_type": "markdown",
   "metadata": {
    "pycharm": {
     "name": "#%% md\n"
    }
   },
   "source": [
    "## Preprocessing\n",
    "As a first step wil will imput our categorical features. Since they are not numerical, the most effective way to\n",
    "impute them is by replicating the most frequent observation in each of these columns. Steps are taken so that only\n",
    "the specific features are imputed in this manner."
   ]
  },
  {
   "cell_type": "code",
   "execution_count": 35,
   "metadata": {
    "pycharm": {
     "name": "#%%\n"
    }
   },
   "outputs": [],
   "source": [
    "transmission_type_df = df.filter(['transmission_type'], axis=1)\n",
    "df.drop(['transmission_type'], axis=1, inplace=True)\n",
    "\n",
    "imputer = SimpleImputer(strategy=\"most_frequent\")\n",
    "transmission_type = imputer.fit_transform(transmission_type_df)\n",
    "df['transmission_type'] = transmission_type"
   ]
  },
  {
   "cell_type": "code",
   "execution_count": 36,
   "metadata": {
    "pycharm": {
     "name": "#%%\n"
    }
   },
   "outputs": [],
   "source": [
    "transmission_df = df.filter(['transmission'], axis=1)\n",
    "df.drop(['transmission'], axis=1, inplace=True)\n",
    "\n",
    "imputer = SimpleImputer(strategy=\"most_frequent\")\n",
    "transmission = imputer.fit_transform(transmission_df)\n",
    "df['transmission'] = transmission"
   ]
  },
  {
   "cell_type": "code",
   "execution_count": 37,
   "metadata": {
    "pycharm": {
     "name": "#%%\n"
    }
   },
   "outputs": [
    {
     "data": {
      "text/html": [
       "<div>\n",
       "<style scoped>\n",
       "    .dataframe tbody tr th:only-of-type {\n",
       "        vertical-align: middle;\n",
       "    }\n",
       "\n",
       "    .dataframe tbody tr th {\n",
       "        vertical-align: top;\n",
       "    }\n",
       "\n",
       "    .dataframe thead th {\n",
       "        text-align: right;\n",
       "    }\n",
       "</style>\n",
       "<table border=\"1\" class=\"dataframe\">\n",
       "  <thead>\n",
       "    <tr style=\"text-align: right;\">\n",
       "      <th></th>\n",
       "      <th>Missing %</th>\n",
       "    </tr>\n",
       "  </thead>\n",
       "  <tbody>\n",
       "    <tr>\n",
       "      <th>nox_emissions</th>\n",
       "      <td>0.21</td>\n",
       "    </tr>\n",
       "    <tr>\n",
       "      <th>co_emissions</th>\n",
       "      <td>0.07</td>\n",
       "    </tr>\n",
       "    <tr>\n",
       "      <th>urban_imperial</th>\n",
       "      <td>0.04</td>\n",
       "    </tr>\n",
       "    <tr>\n",
       "      <th>urban_metric</th>\n",
       "      <td>0.04</td>\n",
       "    </tr>\n",
       "    <tr>\n",
       "      <th>extra_urban_metric</th>\n",
       "      <td>0.04</td>\n",
       "    </tr>\n",
       "    <tr>\n",
       "      <th>extra_urban_imperial</th>\n",
       "      <td>0.04</td>\n",
       "    </tr>\n",
       "    <tr>\n",
       "      <th>fuel_cost_12000_miles</th>\n",
       "      <td>0.03</td>\n",
       "    </tr>\n",
       "    <tr>\n",
       "      <th>engine_capacity</th>\n",
       "      <td>0.02</td>\n",
       "    </tr>\n",
       "    <tr>\n",
       "      <th>combined_metric</th>\n",
       "      <td>0.02</td>\n",
       "    </tr>\n",
       "    <tr>\n",
       "      <th>combined_imperial</th>\n",
       "      <td>0.02</td>\n",
       "    </tr>\n",
       "    <tr>\n",
       "      <th>co2</th>\n",
       "      <td>0.00</td>\n",
       "    </tr>\n",
       "    <tr>\n",
       "      <th>transmission_type</th>\n",
       "      <td>0.00</td>\n",
       "    </tr>\n",
       "    <tr>\n",
       "      <th>year</th>\n",
       "      <td>0.00</td>\n",
       "    </tr>\n",
       "    <tr>\n",
       "      <th>noise_level</th>\n",
       "      <td>0.00</td>\n",
       "    </tr>\n",
       "    <tr>\n",
       "      <th>manufacturer</th>\n",
       "      <td>0.00</td>\n",
       "    </tr>\n",
       "    <tr>\n",
       "      <th>fuel_type</th>\n",
       "      <td>0.00</td>\n",
       "    </tr>\n",
       "    <tr>\n",
       "      <th>euro_standard</th>\n",
       "      <td>0.00</td>\n",
       "    </tr>\n",
       "    <tr>\n",
       "      <th>model</th>\n",
       "      <td>0.00</td>\n",
       "    </tr>\n",
       "    <tr>\n",
       "      <th>transmission</th>\n",
       "      <td>0.00</td>\n",
       "    </tr>\n",
       "  </tbody>\n",
       "</table>\n",
       "</div>"
      ],
      "text/plain": [
       "                       Missing %\n",
       "nox_emissions               0.21\n",
       "co_emissions                0.07\n",
       "urban_imperial              0.04\n",
       "urban_metric                0.04\n",
       "extra_urban_metric          0.04\n",
       "extra_urban_imperial        0.04\n",
       "fuel_cost_12000_miles       0.03\n",
       "engine_capacity             0.02\n",
       "combined_metric             0.02\n",
       "combined_imperial           0.02\n",
       "co2                         0.00\n",
       "transmission_type           0.00\n",
       "year                        0.00\n",
       "noise_level                 0.00\n",
       "manufacturer                0.00\n",
       "fuel_type                   0.00\n",
       "euro_standard               0.00\n",
       "model                       0.00\n",
       "transmission                0.00"
      ]
     },
     "execution_count": 37,
     "metadata": {},
     "output_type": "execute_result"
    }
   ],
   "source": [
    "missing = get_missing(df)\n",
    "missing.head(29)"
   ]
  },
  {
   "cell_type": "markdown",
   "metadata": {
    "pycharm": {
     "name": "#%% md\n"
    }
   },
   "source": [
    "As the categorical features do not have any missing values, the next preprocessing step is to impute our numerical values.\n",
    "This will be performed with the KNN imputer that utilizes the k-Nearest Neighbours to determine the missing values.\n",
    "We will weight neighbours inversely by their distance to the observation.\n",
    "\n",
    "To overcome KNNImputer's difficulties with categorical features, we will temporarily remove them and re-add them after\n",
    "the imputation"
   ]
  },
  {
   "cell_type": "code",
   "execution_count": 38,
   "metadata": {
    "pycharm": {
     "name": "#%%\n"
    }
   },
   "outputs": [],
   "source": [
    "categorical_labels = df.select_dtypes(include='object').columns\n",
    "categorical_labels_df = df.filter(categorical_labels, axis=1)\n",
    "df.drop(categorical_labels, axis=1, inplace=True)"
   ]
  },
  {
   "cell_type": "code",
   "execution_count": 39,
   "metadata": {
    "pycharm": {
     "name": "#%%\n"
    }
   },
   "outputs": [
    {
     "data": {
      "text/html": [
       "<div>\n",
       "<style scoped>\n",
       "    .dataframe tbody tr th:only-of-type {\n",
       "        vertical-align: middle;\n",
       "    }\n",
       "\n",
       "    .dataframe tbody tr th {\n",
       "        vertical-align: top;\n",
       "    }\n",
       "\n",
       "    .dataframe thead th {\n",
       "        text-align: right;\n",
       "    }\n",
       "</style>\n",
       "<table border=\"1\" class=\"dataframe\">\n",
       "  <thead>\n",
       "    <tr style=\"text-align: right;\">\n",
       "      <th></th>\n",
       "      <th>year</th>\n",
       "      <th>euro_standard</th>\n",
       "      <th>engine_capacity</th>\n",
       "      <th>urban_metric</th>\n",
       "      <th>extra_urban_metric</th>\n",
       "      <th>combined_metric</th>\n",
       "      <th>urban_imperial</th>\n",
       "      <th>extra_urban_imperial</th>\n",
       "      <th>combined_imperial</th>\n",
       "      <th>noise_level</th>\n",
       "      <th>co2</th>\n",
       "      <th>co_emissions</th>\n",
       "      <th>nox_emissions</th>\n",
       "      <th>fuel_cost_12000_miles</th>\n",
       "    </tr>\n",
       "  </thead>\n",
       "  <tbody>\n",
       "    <tr>\n",
       "      <th>0</th>\n",
       "      <td>2005.0</td>\n",
       "      <td>4.0</td>\n",
       "      <td>1596.0</td>\n",
       "      <td>10.5</td>\n",
       "      <td>5.9</td>\n",
       "      <td>7.5</td>\n",
       "      <td>26.9</td>\n",
       "      <td>47.9</td>\n",
       "      <td>37.7</td>\n",
       "      <td>73.0</td>\n",
       "      <td>181.0</td>\n",
       "      <td>260.0</td>\n",
       "      <td>35.0</td>\n",
       "      <td>1158.0</td>\n",
       "    </tr>\n",
       "    <tr>\n",
       "      <th>1</th>\n",
       "      <td>2005.0</td>\n",
       "      <td>4.0</td>\n",
       "      <td>1995.0</td>\n",
       "      <td>7.7</td>\n",
       "      <td>4.5</td>\n",
       "      <td>5.6</td>\n",
       "      <td>36.7</td>\n",
       "      <td>62.8</td>\n",
       "      <td>50.4</td>\n",
       "      <td>72.0</td>\n",
       "      <td>150.0</td>\n",
       "      <td>290.0</td>\n",
       "      <td>166.0</td>\n",
       "      <td>422.0</td>\n",
       "    </tr>\n",
       "    <tr>\n",
       "      <th>2</th>\n",
       "      <td>2005.0</td>\n",
       "      <td>4.0</td>\n",
       "      <td>1995.0</td>\n",
       "      <td>7.7</td>\n",
       "      <td>4.5</td>\n",
       "      <td>5.6</td>\n",
       "      <td>36.7</td>\n",
       "      <td>62.8</td>\n",
       "      <td>50.4</td>\n",
       "      <td>72.0</td>\n",
       "      <td>150.0</td>\n",
       "      <td>319.0</td>\n",
       "      <td>166.0</td>\n",
       "      <td>422.0</td>\n",
       "    </tr>\n",
       "    <tr>\n",
       "      <th>3</th>\n",
       "      <td>2005.0</td>\n",
       "      <td>4.0</td>\n",
       "      <td>1995.0</td>\n",
       "      <td>10.1</td>\n",
       "      <td>5.7</td>\n",
       "      <td>7.3</td>\n",
       "      <td>28.0</td>\n",
       "      <td>49.6</td>\n",
       "      <td>38.7</td>\n",
       "      <td>72.0</td>\n",
       "      <td>176.0</td>\n",
       "      <td>511.0</td>\n",
       "      <td>7.0</td>\n",
       "      <td>1128.0</td>\n",
       "    </tr>\n",
       "    <tr>\n",
       "      <th>4</th>\n",
       "      <td>2005.0</td>\n",
       "      <td>4.0</td>\n",
       "      <td>1995.0</td>\n",
       "      <td>10.7</td>\n",
       "      <td>6.1</td>\n",
       "      <td>7.8</td>\n",
       "      <td>26.4</td>\n",
       "      <td>46.3</td>\n",
       "      <td>36.2</td>\n",
       "      <td>70.0</td>\n",
       "      <td>188.0</td>\n",
       "      <td>383.0</td>\n",
       "      <td>15.0</td>\n",
       "      <td>1206.0</td>\n",
       "    </tr>\n",
       "  </tbody>\n",
       "</table>\n",
       "</div>"
      ],
      "text/plain": [
       "     year  euro_standard  engine_capacity  urban_metric  extra_urban_metric  \\\n",
       "0  2005.0            4.0           1596.0          10.5                 5.9   \n",
       "1  2005.0            4.0           1995.0           7.7                 4.5   \n",
       "2  2005.0            4.0           1995.0           7.7                 4.5   \n",
       "3  2005.0            4.0           1995.0          10.1                 5.7   \n",
       "4  2005.0            4.0           1995.0          10.7                 6.1   \n",
       "\n",
       "   combined_metric  urban_imperial  extra_urban_imperial  combined_imperial  \\\n",
       "0              7.5            26.9                  47.9               37.7   \n",
       "1              5.6            36.7                  62.8               50.4   \n",
       "2              5.6            36.7                  62.8               50.4   \n",
       "3              7.3            28.0                  49.6               38.7   \n",
       "4              7.8            26.4                  46.3               36.2   \n",
       "\n",
       "   noise_level    co2  co_emissions  nox_emissions  fuel_cost_12000_miles  \n",
       "0         73.0  181.0         260.0           35.0                 1158.0  \n",
       "1         72.0  150.0         290.0          166.0                  422.0  \n",
       "2         72.0  150.0         319.0          166.0                  422.0  \n",
       "3         72.0  176.0         511.0            7.0                 1128.0  \n",
       "4         70.0  188.0         383.0           15.0                 1206.0  "
      ]
     },
     "execution_count": 39,
     "metadata": {},
     "output_type": "execute_result"
    }
   ],
   "source": [
    "imputer = KNNImputer(n_neighbors=5, weights='distance')\n",
    "imputer.fit(df)\n",
    "\n",
    "imputed_features = imputer.fit_transform(df.values)\n",
    "imputed_df = pd.DataFrame(imputed_features, index=df.index, columns=df.columns)\n",
    "imputed_df.head()"
   ]
  },
  {
   "cell_type": "code",
   "execution_count": 40,
   "metadata": {
    "pycharm": {
     "name": "#%%\n"
    }
   },
   "outputs": [
    {
     "data": {
      "text/html": [
       "<div>\n",
       "<style scoped>\n",
       "    .dataframe tbody tr th:only-of-type {\n",
       "        vertical-align: middle;\n",
       "    }\n",
       "\n",
       "    .dataframe tbody tr th {\n",
       "        vertical-align: top;\n",
       "    }\n",
       "\n",
       "    .dataframe thead th {\n",
       "        text-align: right;\n",
       "    }\n",
       "</style>\n",
       "<table border=\"1\" class=\"dataframe\">\n",
       "  <thead>\n",
       "    <tr style=\"text-align: right;\">\n",
       "      <th></th>\n",
       "      <th>Missing %</th>\n",
       "    </tr>\n",
       "  </thead>\n",
       "  <tbody>\n",
       "    <tr>\n",
       "      <th>year</th>\n",
       "      <td>0.0</td>\n",
       "    </tr>\n",
       "    <tr>\n",
       "      <th>co2</th>\n",
       "      <td>0.0</td>\n",
       "    </tr>\n",
       "    <tr>\n",
       "      <th>transmission_type</th>\n",
       "      <td>0.0</td>\n",
       "    </tr>\n",
       "    <tr>\n",
       "      <th>fuel_type</th>\n",
       "      <td>0.0</td>\n",
       "    </tr>\n",
       "    <tr>\n",
       "      <th>model</th>\n",
       "      <td>0.0</td>\n",
       "    </tr>\n",
       "    <tr>\n",
       "      <th>manufacturer</th>\n",
       "      <td>0.0</td>\n",
       "    </tr>\n",
       "    <tr>\n",
       "      <th>fuel_cost_12000_miles</th>\n",
       "      <td>0.0</td>\n",
       "    </tr>\n",
       "    <tr>\n",
       "      <th>nox_emissions</th>\n",
       "      <td>0.0</td>\n",
       "    </tr>\n",
       "    <tr>\n",
       "      <th>co_emissions</th>\n",
       "      <td>0.0</td>\n",
       "    </tr>\n",
       "    <tr>\n",
       "      <th>noise_level</th>\n",
       "      <td>0.0</td>\n",
       "    </tr>\n",
       "    <tr>\n",
       "      <th>euro_standard</th>\n",
       "      <td>0.0</td>\n",
       "    </tr>\n",
       "    <tr>\n",
       "      <th>combined_imperial</th>\n",
       "      <td>0.0</td>\n",
       "    </tr>\n",
       "    <tr>\n",
       "      <th>extra_urban_imperial</th>\n",
       "      <td>0.0</td>\n",
       "    </tr>\n",
       "    <tr>\n",
       "      <th>urban_imperial</th>\n",
       "      <td>0.0</td>\n",
       "    </tr>\n",
       "    <tr>\n",
       "      <th>combined_metric</th>\n",
       "      <td>0.0</td>\n",
       "    </tr>\n",
       "    <tr>\n",
       "      <th>extra_urban_metric</th>\n",
       "      <td>0.0</td>\n",
       "    </tr>\n",
       "    <tr>\n",
       "      <th>urban_metric</th>\n",
       "      <td>0.0</td>\n",
       "    </tr>\n",
       "    <tr>\n",
       "      <th>engine_capacity</th>\n",
       "      <td>0.0</td>\n",
       "    </tr>\n",
       "  </tbody>\n",
       "</table>\n",
       "</div>"
      ],
      "text/plain": [
       "                       Missing %\n",
       "year                         0.0\n",
       "co2                          0.0\n",
       "transmission_type            0.0\n",
       "fuel_type                    0.0\n",
       "model                        0.0\n",
       "manufacturer                 0.0\n",
       "fuel_cost_12000_miles        0.0\n",
       "nox_emissions                0.0\n",
       "co_emissions                 0.0\n",
       "noise_level                  0.0\n",
       "euro_standard                0.0\n",
       "combined_imperial            0.0\n",
       "extra_urban_imperial         0.0\n",
       "urban_imperial               0.0\n",
       "combined_metric              0.0\n",
       "extra_urban_metric           0.0\n",
       "urban_metric                 0.0\n",
       "engine_capacity              0.0"
      ]
     },
     "execution_count": 40,
     "metadata": {},
     "output_type": "execute_result"
    }
   ],
   "source": [
    "df = pd.concat([imputed_df, categorical_labels_df], axis=1)\n",
    "\n",
    "missing = get_missing(df)\n",
    "missing.head(18)"
   ]
  },
  {
   "cell_type": "markdown",
   "metadata": {
    "pycharm": {
     "name": "#%% md\n"
    }
   },
   "source": [
    "We can now observe that our dataset is now clean, withou any missing values. We can continue to the next step\n",
    "\n",
    "## Outlier removal\n",
    "In order to assist our regression models, we will attempt to remove observations that have extreme values in their\n",
    "numerical features. We will do so by comparing to the 1st and 99th quantile and remove any observations that have\n",
    "values outside of this range."
   ]
  },
  {
   "cell_type": "code",
   "execution_count": 41,
   "metadata": {
    "pycharm": {
     "name": "#%%\n"
    }
   },
   "outputs": [],
   "source": [
    "numerical_features = df.select_dtypes(exclude='object').columns\n",
    "\n",
    "for feat in numerical_features:\n",
    "    q_low = df[feat].quantile(0.01)\n",
    "    q_hi  = df[feat].quantile(0.99)\n",
    "\n",
    "    df = df[(df[feat] < q_hi) & (df[feat] > q_low)]"
   ]
  },
  {
   "cell_type": "markdown",
   "metadata": {
    "pycharm": {
     "name": "#%% md\n"
    }
   },
   "source": [
    "Next the categorical features have to be one-hot encoded and transformed to numerical. Additionally features need to be\n",
    "scaled. A standard scaler is the best choice since we, *most importantly* have already removed any outliers and we\n",
    "have no rate features\n"
   ]
  },
  {
   "cell_type": "code",
   "execution_count": 42,
   "metadata": {
    "pycharm": {
     "name": "#%%\n"
    }
   },
   "outputs": [
    {
     "data": {
      "text/plain": [
       "(11364, 998)"
      ]
     },
     "execution_count": 42,
     "metadata": {},
     "output_type": "execute_result"
    }
   ],
   "source": [
    "df = pd.get_dummies(df, columns=categorical_labels)\n",
    "df.shape"
   ]
  },
  {
   "cell_type": "code",
   "execution_count": 43,
   "metadata": {
    "pycharm": {
     "name": "#%%\n"
    }
   },
   "outputs": [],
   "source": [
    "scaler = StandardScaler()\n",
    "scaled_features = scaler.fit_transform(df.values)\n",
    "scaled_df = pd.DataFrame(scaled_features, index=df.index, columns=df.columns)"
   ]
  },
  {
   "cell_type": "markdown",
   "metadata": {
    "pycharm": {
     "name": "#%% md\n"
    }
   },
   "source": [
    "## Model Training\n",
    "After properly denoting our target and splitting our dataset to train and test slices we will train 3 different\n",
    "regression models. A Linear Regression, a Random Forest and an XGBoost Regressor.\n",
    "\n",
    "We will evaluate our models, using the spearman and pearson correlation and r2 score, where values as close to +1 as\n",
    "possible point to a succesfull prediction. In addtion the mean and root square error will be calculated. Due to the range\n",
    "of values of fuel cost, any error below 100 can be considered a success.\n"
   ]
  },
  {
   "cell_type": "code",
   "execution_count": 44,
   "metadata": {
    "pycharm": {
     "name": "#%%\n"
    }
   },
   "outputs": [
    {
     "data": {
      "text/plain": [
       "(11364, 997)"
      ]
     },
     "execution_count": 44,
     "metadata": {},
     "output_type": "execute_result"
    }
   ],
   "source": [
    "target = df['fuel_cost_12000_miles']\n",
    "X = df.drop(['fuel_cost_12000_miles'], axis=1)\n",
    "X.shape"
   ]
  },
  {
   "cell_type": "code",
   "execution_count": 45,
   "metadata": {
    "pycharm": {
     "name": "#%%\n"
    }
   },
   "outputs": [],
   "source": [
    "x_train, x_test, y_train, y_test = model_selection.train_test_split(X, target, test_size=0.25, random_state=RANDOM_STATE)"
   ]
  },
  {
   "cell_type": "code",
   "execution_count": 46,
   "metadata": {
    "pycharm": {
     "name": "#%%\n"
    }
   },
   "outputs": [],
   "source": [
    "def evaluate_regression(actual, predicted):\n",
    "    spearman_correlation = stats.spearmanr(actual, predicted)\n",
    "    print(f'Spearman Correlation: {spearman_correlation.correlation:.2f}')\n",
    "\n",
    "    pearson_correlation = stats.pearsonr(actual, predicted)\n",
    "    print(f'Pearson Correlation: {pearson_correlation[0]:.2f}')\n",
    "\n",
    "    r2_score = metrics.r2_score(actual, predicted)\n",
    "    print(f'R2 Coefficient Score: {r2_score:.2f}')\n",
    "\n",
    "    mean_squared_error = metrics.mean_squared_error(actual, predicted)\n",
    "    print(f'Mean Squared Error: {mean_squared_error:.2f}')\n",
    "\n",
    "    rmse = metrics.mean_squared_error(actual, predicted, squared=False)\n",
    "    print(f'Root Mean Squared Error: {rmse:.2f}')\n",
    "\n",
    "    # TODO needs upgraded scikit-learn\n",
    "    # mape = metrics.mean_absolute_percentage_error(actual, predicted)\n",
    "    # print(f'MAPE Score: {mape:.2f}')"
   ]
  },
  {
   "cell_type": "markdown",
   "metadata": {
    "pycharm": {
     "name": "#%% md\n"
    }
   },
   "source": [
    "The linear regression does not seem to be able to adequately describe the relation of the data and thus\n",
    "predict our target variable correctly. On the contrary our ensemble methods, the Random Forest and XGBoost regressors\n",
    "demonstrate a mean squared error around 80 and can be considered a success in predicting the emmissions.\n"
   ]
  },
  {
   "cell_type": "code",
   "execution_count": 47,
   "metadata": {
    "pycharm": {
     "name": "#%%\n"
    }
   },
   "outputs": [
    {
     "name": "stdout",
     "output_type": "stream",
     "text": [
      "----Linear Regression----\n",
      "Spearman Correlation: 0.90\n",
      "Pearson Correlation: -0.02\n",
      "R2 Coefficient Score: -1738734349009.30\n",
      "Mean Squared Error: 144757970247679040.00\n",
      "Root Mean Squared Error: 380470721.93\n"
     ]
    }
   ],
   "source": [
    "lin_reg = LinearRegression()\n",
    "lin_reg.fit(x_train, y_train)\n",
    "y_pred = lin_reg.predict(x_test)\n",
    "print(\"----Linear Regression----\")\n",
    "evaluate_regression(y_test, y_pred)"
   ]
  },
  {
   "cell_type": "code",
   "execution_count": 48,
   "metadata": {
    "pycharm": {
     "name": "#%%\n"
    }
   },
   "outputs": [
    {
     "name": "stdout",
     "output_type": "stream",
     "text": [
      "----Random Forest Regression----\n",
      "Spearman Correlation: 1.00\n",
      "Pearson Correlation: 1.00\n",
      "R2 Coefficient Score: 1.00\n",
      "Mean Squared Error: 80.66\n",
      "Root Mean Squared Error: 8.98\n"
     ]
    }
   ],
   "source": [
    "rf_reg = RandomForestRegressor()\n",
    "rf_reg.fit(x_train, y_train)\n",
    "y_pred = rf_reg.predict(x_test)\n",
    "print(\"----Random Forest Regression----\")\n",
    "evaluate_regression(y_test, y_pred)"
   ]
  },
  {
   "cell_type": "code",
   "execution_count": 49,
   "metadata": {
    "pycharm": {
     "name": "#%%\n"
    }
   },
   "outputs": [
    {
     "name": "stdout",
     "output_type": "stream",
     "text": [
      "[00:52:43] WARNING: /home/conda/feedstock_root/build_artifacts/xgboost_1607604574104/work/src/objective/regression_obj.cu:170: reg:linear is now deprecated in favor of reg:squarederror.\n",
      "----XGBoost Regression----\n",
      "Spearman Correlation: 1.00\n",
      "Pearson Correlation: 1.00\n",
      "R2 Coefficient Score: 1.00\n",
      "Mean Squared Error: 81.41\n",
      "Root Mean Squared Error: 9.02\n"
     ]
    }
   ],
   "source": [
    "xgb_reg = XGBRegressor(gamma=0, objective='reg:linear', nthread=-1)\n",
    "xgb_reg.fit(x_train, y_train)\n",
    "y_pred = xgb_reg.predict(x_test)\n",
    "print(\"----XGBoost Regression----\")\n",
    "evaluate_regression(y_test, y_pred)\n"
   ]
  }
 ],
 "metadata": {
  "kernelspec": {
   "display_name": "Python 3",
   "language": "python",
   "name": "python3"
  },
  "language_info": {
   "codemirror_mode": {
    "name": "ipython",
    "version": 3
   },
   "file_extension": ".py",
   "mimetype": "text/x-python",
   "name": "python",
   "nbconvert_exporter": "python",
   "pygments_lexer": "ipython3",
   "version": "3.8.2"
  }
 },
 "nbformat": 4,
 "nbformat_minor": 1
}