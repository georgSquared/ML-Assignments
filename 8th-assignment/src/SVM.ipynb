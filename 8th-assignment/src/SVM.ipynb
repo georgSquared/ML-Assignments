{
 "cells": [
  {
   "cell_type": "markdown",
   "metadata": {
    "collapsed": true,
    "pycharm": {
     "name": "#%% md\n"
    }
   },
   "source": [
    "## Support Vector Machines\n",
    "\n",
    "We will create a model that classifies credit card transactions based on the given credit card dataset and\n",
    "using an SVM classifier\n",
    "\n",
    "Lets begin with the necessary imports"
   ]
  },
  {
   "cell_type": "code",
   "execution_count": 1,
   "metadata": {
    "pycharm": {
     "name": "#%%\n"
    }
   },
   "outputs": [],
   "source": [
    "from collections import Counter\n",
    "import pandas as pd\n",
    "import matplotlib.pyplot as plt\n",
    "import seaborn as sns\n",
    "from imblearn.over_sampling import SMOTE\n",
    "from imblearn.under_sampling import RandomUnderSampler\n",
    "from sklearn import metrics\n",
    "from sklearn.model_selection import train_test_split\n",
    "from sklearn.preprocessing import MinMaxScaler\n",
    "from sklearn.svm import SVC"
   ]
  },
  {
   "cell_type": "code",
   "execution_count": 2,
   "metadata": {
    "pycharm": {
     "name": "#%%\n"
    }
   },
   "outputs": [],
   "source": [
    "df = pd.read_csv(\"creditcard.csv\")"
   ]
  },
  {
   "cell_type": "code",
   "execution_count": 3,
   "metadata": {
    "pycharm": {
     "name": "#%%\n"
    }
   },
   "outputs": [
    {
     "name": "stdout",
     "output_type": "stream",
     "text": [
      "<class 'pandas.core.frame.DataFrame'>\n",
      "RangeIndex: 284807 entries, 0 to 284806\n",
      "Data columns (total 31 columns):\n",
      " #   Column  Non-Null Count   Dtype  \n",
      "---  ------  --------------   -----  \n",
      " 0   Time    284807 non-null  float64\n",
      " 1   V1      284807 non-null  float64\n",
      " 2   V2      284807 non-null  float64\n",
      " 3   V3      284807 non-null  float64\n",
      " 4   V4      284807 non-null  float64\n",
      " 5   V5      284807 non-null  float64\n",
      " 6   V6      284807 non-null  float64\n",
      " 7   V7      284807 non-null  float64\n",
      " 8   V8      284807 non-null  float64\n",
      " 9   V9      284807 non-null  float64\n",
      " 10  V10     284807 non-null  float64\n",
      " 11  V11     284807 non-null  float64\n",
      " 12  V12     284807 non-null  float64\n",
      " 13  V13     284807 non-null  float64\n",
      " 14  V14     284807 non-null  float64\n",
      " 15  V15     284807 non-null  float64\n",
      " 16  V16     284807 non-null  float64\n",
      " 17  V17     284807 non-null  float64\n",
      " 18  V18     284807 non-null  float64\n",
      " 19  V19     284807 non-null  float64\n",
      " 20  V20     284807 non-null  float64\n",
      " 21  V21     284807 non-null  float64\n",
      " 22  V22     284807 non-null  float64\n",
      " 23  V23     284807 non-null  float64\n",
      " 24  V24     284807 non-null  float64\n",
      " 25  V25     284807 non-null  float64\n",
      " 26  V26     284807 non-null  float64\n",
      " 27  V27     284807 non-null  float64\n",
      " 28  V28     284807 non-null  float64\n",
      " 29  Amount  284807 non-null  float64\n",
      " 30  Class   284807 non-null  int64  \n",
      "dtypes: float64(30), int64(1)\n",
      "memory usage: 67.4 MB\n"
     ]
    }
   ],
   "source": [
    "df.info()"
   ]
  },
  {
   "cell_type": "code",
   "execution_count": 4,
   "metadata": {
    "pycharm": {
     "name": "#%%\n"
    }
   },
   "outputs": [
    {
     "data": {
      "text/plain": "(284807, 31)"
     },
     "execution_count": 4,
     "metadata": {},
     "output_type": "execute_result"
    }
   ],
   "source": [
    "df.shape"
   ]
  },
  {
   "cell_type": "markdown",
   "metadata": {
    "pycharm": {
     "name": "#%% md\n"
    }
   },
   "source": [
    "The dataset seems clean without null values\n",
    "\n",
    "Some quick sparsity and spread checks"
   ]
  },
  {
   "cell_type": "code",
   "execution_count": 5,
   "metadata": {
    "pycharm": {
     "name": "#%%\n"
    }
   },
   "outputs": [
    {
     "name": "stdout",
     "output_type": "stream",
     "text": [
      "0.03240927047710974\n",
      "Time      47488.145955\n",
      "V1            1.958696\n",
      "V2            1.651309\n",
      "V3            1.516255\n",
      "V4            1.415869\n",
      "V5            1.380247\n",
      "V6            1.332271\n",
      "V7            1.237094\n",
      "V8            1.194353\n",
      "V9            1.098632\n",
      "V10           1.088850\n",
      "V11           1.020713\n",
      "V12           0.999201\n",
      "V13           0.995274\n",
      "V14           0.958596\n",
      "V15           0.915316\n",
      "V16           0.876253\n",
      "V17           0.849337\n",
      "V18           0.838176\n",
      "V19           0.814041\n",
      "V20           0.770925\n",
      "V21           0.734524\n",
      "V22           0.725702\n",
      "V23           0.624460\n",
      "V24           0.605647\n",
      "V25           0.521278\n",
      "V26           0.482227\n",
      "V27           0.403632\n",
      "V28           0.330083\n",
      "Amount      250.120109\n",
      "Class         0.041527\n",
      "dtype: float64\n"
     ]
    }
   ],
   "source": [
    "print((df.to_numpy() == 0).mean())\n",
    "print(df.std())"
   ]
  },
  {
   "cell_type": "code",
   "execution_count": 6,
   "metadata": {
    "pycharm": {
     "name": "#%%\n"
    }
   },
   "outputs": [
    {
     "data": {
      "text/plain": "   Time        V1        V2        V3        V4        V5        V6        V7  \\\n0   0.0 -1.359807 -0.072781  2.536347  1.378155 -0.338321  0.462388  0.239599   \n1   0.0  1.191857  0.266151  0.166480  0.448154  0.060018 -0.082361 -0.078803   \n2   1.0 -1.358354 -1.340163  1.773209  0.379780 -0.503198  1.800499  0.791461   \n3   1.0 -0.966272 -0.185226  1.792993 -0.863291 -0.010309  1.247203  0.237609   \n4   2.0 -1.158233  0.877737  1.548718  0.403034 -0.407193  0.095921  0.592941   \n\n         V8        V9  ...       V21       V22       V23       V24       V25  \\\n0  0.098698  0.363787  ... -0.018307  0.277838 -0.110474  0.066928  0.128539   \n1  0.085102 -0.255425  ... -0.225775 -0.638672  0.101288 -0.339846  0.167170   \n2  0.247676 -1.514654  ...  0.247998  0.771679  0.909412 -0.689281 -0.327642   \n3  0.377436 -1.387024  ... -0.108300  0.005274 -0.190321 -1.175575  0.647376   \n4 -0.270533  0.817739  ... -0.009431  0.798278 -0.137458  0.141267 -0.206010   \n\n        V26       V27       V28  Amount  Class  \n0 -0.189115  0.133558 -0.021053  149.62      0  \n1  0.125895 -0.008983  0.014724    2.69      0  \n2 -0.139097 -0.055353 -0.059752  378.66      0  \n3 -0.221929  0.062723  0.061458  123.50      0  \n4  0.502292  0.219422  0.215153   69.99      0  \n\n[5 rows x 31 columns]",
      "text/html": "<div>\n<style scoped>\n    .dataframe tbody tr th:only-of-type {\n        vertical-align: middle;\n    }\n\n    .dataframe tbody tr th {\n        vertical-align: top;\n    }\n\n    .dataframe thead th {\n        text-align: right;\n    }\n</style>\n<table border=\"1\" class=\"dataframe\">\n  <thead>\n    <tr style=\"text-align: right;\">\n      <th></th>\n      <th>Time</th>\n      <th>V1</th>\n      <th>V2</th>\n      <th>V3</th>\n      <th>V4</th>\n      <th>V5</th>\n      <th>V6</th>\n      <th>V7</th>\n      <th>V8</th>\n      <th>V9</th>\n      <th>...</th>\n      <th>V21</th>\n      <th>V22</th>\n      <th>V23</th>\n      <th>V24</th>\n      <th>V25</th>\n      <th>V26</th>\n      <th>V27</th>\n      <th>V28</th>\n      <th>Amount</th>\n      <th>Class</th>\n    </tr>\n  </thead>\n  <tbody>\n    <tr>\n      <th>0</th>\n      <td>0.0</td>\n      <td>-1.359807</td>\n      <td>-0.072781</td>\n      <td>2.536347</td>\n      <td>1.378155</td>\n      <td>-0.338321</td>\n      <td>0.462388</td>\n      <td>0.239599</td>\n      <td>0.098698</td>\n      <td>0.363787</td>\n      <td>...</td>\n      <td>-0.018307</td>\n      <td>0.277838</td>\n      <td>-0.110474</td>\n      <td>0.066928</td>\n      <td>0.128539</td>\n      <td>-0.189115</td>\n      <td>0.133558</td>\n      <td>-0.021053</td>\n      <td>149.62</td>\n      <td>0</td>\n    </tr>\n    <tr>\n      <th>1</th>\n      <td>0.0</td>\n      <td>1.191857</td>\n      <td>0.266151</td>\n      <td>0.166480</td>\n      <td>0.448154</td>\n      <td>0.060018</td>\n      <td>-0.082361</td>\n      <td>-0.078803</td>\n      <td>0.085102</td>\n      <td>-0.255425</td>\n      <td>...</td>\n      <td>-0.225775</td>\n      <td>-0.638672</td>\n      <td>0.101288</td>\n      <td>-0.339846</td>\n      <td>0.167170</td>\n      <td>0.125895</td>\n      <td>-0.008983</td>\n      <td>0.014724</td>\n      <td>2.69</td>\n      <td>0</td>\n    </tr>\n    <tr>\n      <th>2</th>\n      <td>1.0</td>\n      <td>-1.358354</td>\n      <td>-1.340163</td>\n      <td>1.773209</td>\n      <td>0.379780</td>\n      <td>-0.503198</td>\n      <td>1.800499</td>\n      <td>0.791461</td>\n      <td>0.247676</td>\n      <td>-1.514654</td>\n      <td>...</td>\n      <td>0.247998</td>\n      <td>0.771679</td>\n      <td>0.909412</td>\n      <td>-0.689281</td>\n      <td>-0.327642</td>\n      <td>-0.139097</td>\n      <td>-0.055353</td>\n      <td>-0.059752</td>\n      <td>378.66</td>\n      <td>0</td>\n    </tr>\n    <tr>\n      <th>3</th>\n      <td>1.0</td>\n      <td>-0.966272</td>\n      <td>-0.185226</td>\n      <td>1.792993</td>\n      <td>-0.863291</td>\n      <td>-0.010309</td>\n      <td>1.247203</td>\n      <td>0.237609</td>\n      <td>0.377436</td>\n      <td>-1.387024</td>\n      <td>...</td>\n      <td>-0.108300</td>\n      <td>0.005274</td>\n      <td>-0.190321</td>\n      <td>-1.175575</td>\n      <td>0.647376</td>\n      <td>-0.221929</td>\n      <td>0.062723</td>\n      <td>0.061458</td>\n      <td>123.50</td>\n      <td>0</td>\n    </tr>\n    <tr>\n      <th>4</th>\n      <td>2.0</td>\n      <td>-1.158233</td>\n      <td>0.877737</td>\n      <td>1.548718</td>\n      <td>0.403034</td>\n      <td>-0.407193</td>\n      <td>0.095921</td>\n      <td>0.592941</td>\n      <td>-0.270533</td>\n      <td>0.817739</td>\n      <td>...</td>\n      <td>-0.009431</td>\n      <td>0.798278</td>\n      <td>-0.137458</td>\n      <td>0.141267</td>\n      <td>-0.206010</td>\n      <td>0.502292</td>\n      <td>0.219422</td>\n      <td>0.215153</td>\n      <td>69.99</td>\n      <td>0</td>\n    </tr>\n  </tbody>\n</table>\n<p>5 rows × 31 columns</p>\n</div>"
     },
     "execution_count": 6,
     "metadata": {},
     "output_type": "execute_result"
    }
   ],
   "source": [
    "df.head()"
   ]
  },
  {
   "cell_type": "markdown",
   "metadata": {
    "pycharm": {
     "name": "#%% md\n"
    }
   },
   "source": [
    "Lets now check the distribution of the dataset classes\n"
   ]
  },
  {
   "cell_type": "code",
   "execution_count": 7,
   "metadata": {
    "pycharm": {
     "name": "#%%\n"
    }
   },
   "outputs": [
    {
     "name": "stderr",
     "output_type": "stream",
     "text": [
      "/home/georg/miniconda3/envs/ML-Assignments/lib/python3.8/site-packages/seaborn/_decorators.py:36: FutureWarning: Pass the following variable as a keyword arg: x. From version 0.12, the only valid positional argument will be `data`, and passing other arguments without an explicit keyword will result in an error or misinterpretation.\n",
      "  warnings.warn(\n"
     ]
    },
    {
     "data": {
      "text/plain": "Text(0.5, 0, 'Class')"
     },
     "execution_count": 7,
     "metadata": {},
     "output_type": "execute_result"
    },
    {
     "data": {
      "text/plain": "<Figure size 432x288 with 1 Axes>",
      "image/png": "[encoded data removed]"
     },
     "metadata": {
      "needs_background": "light"
     },
     "output_type": "display_data"
    }
   ],
   "source": [
    "graph = sns.countplot(df['Class'])\n",
    "graph.set_xticklabels(['Legitimate','Fraud'])\n",
    "plt.ylabel(\"Count\")\n",
    "plt.xlabel(\"Class\")"
   ]
  },
  {
   "cell_type": "code",
   "execution_count": 8,
   "metadata": {
    "pycharm": {
     "name": "#%%\n"
    }
   },
   "outputs": [
    {
     "name": "stdout",
     "output_type": "stream",
     "text": [
      "There are 284315 legitimate transactions, amounting to 99.83% of total transactions\n",
      "There are 492 fraudulent transactions, amounting to 0.17% of total transactions\n"
     ]
    }
   ],
   "source": [
    "legitimate_count  = len(df[df.Class == 0])\n",
    "fraud_count = len(df[df.Class == 1])\n",
    "\n",
    "legitimate_percentage = (legitimate_count / len(df)) * 100\n",
    "fraud_percentage = (fraud_count/ len(df)) * 100\n",
    "\n",
    "print(f\"There are {legitimate_count} legitimate transactions, amounting to {legitimate_percentage:.2f}% of total transactions\")\n",
    "print(f\"There are {fraud_count} fraudulent transactions, amounting to {fraud_percentage:.2f}% of total transactions\")"
   ]
  },
  {
   "cell_type": "markdown",
   "metadata": {
    "pycharm": {
     "name": "#%% md\n"
    }
   },
   "source": [
    "The dataset is obviously heavily imbalanced. It is dominated by the legitimate transactions, having only 0,17% sampes\n",
    "of the negative/fraudulent class. We will attempt to remedy that by resampling our data"
   ]
  },
  {
   "cell_type": "code",
   "execution_count": 9,
   "metadata": {
    "pycharm": {
     "name": "#%%\n"
    }
   },
   "outputs": [
    {
     "name": "stdout",
     "output_type": "stream",
     "text": [
      "Initial class distribution: Counter({0: 284315, 1: 492})\n",
      "Resampled class distribution: Counter({0: 56862, 1: 28431})\n"
     ]
    }
   ],
   "source": [
    "y = df.pop('Class')\n",
    "X = df\n",
    "\n",
    "smote = SMOTE(sampling_strategy=0.1)\n",
    "rus = RandomUnderSampler(sampling_strategy=0.5)\n",
    "\n",
    "x_smote, y_smote = smote.fit_resample(X, y)\n",
    "x_final, y_final = rus.fit_resample(x_smote, y_smote)\n",
    "\n",
    "initial_count = Counter(y)\n",
    "resampled_count = Counter(y_final)\n",
    "\n",
    "print(f\"Initial class distribution: {initial_count}\")\n",
    "print(f\"Resampled class distribution: {resampled_count}\")\n",
    "\n",
    "x_train, x_test, y_train, y_test = train_test_split(x_final, y_final, test_size = 0.25, random_state = 0)"
   ]
  },
  {
   "cell_type": "code",
   "execution_count": 10,
   "outputs": [],
   "source": [
    "minMaxScaler = MinMaxScaler()\n",
    "x_train = minMaxScaler.fit_transform(x_train)\n",
    "x_test = minMaxScaler.transform(x_test)"
   ],
   "metadata": {
    "collapsed": false,
    "pycharm": {
     "name": "#%%\n"
    }
   }
  },
  {
   "cell_type": "markdown",
   "metadata": {
    "pycharm": {
     "name": "#%% md\n"
    }
   },
   "source": [
    "Define some utility functions"
   ]
  },
  {
   "cell_type": "code",
   "execution_count": 11,
   "metadata": {
    "pycharm": {
     "name": "#%%\n"
    }
   },
   "outputs": [],
   "source": [
    "def evaluate_model(actual, predicted, print_for_params=False, average=\"macro\"):\n",
    "    average = average\n",
    "    recall_score = metrics.recall_score(actual, predicted, average=average)\n",
    "    precision_score = metrics.precision_score(actual, predicted, average=average)\n",
    "    f1_score = metrics.f1_score(actual, predicted, average=average)\n",
    "\n",
    "    if print_for_params:\n",
    "        average_params = ['binary', 'micro', 'macro', 'weighted']\n",
    "        for param in average_params:\n",
    "            recall_score = metrics.recall_score(actual, predicted, average=param)\n",
    "            print(f\"Precision score: {precision_score:.2f} with average parameter: {param}\")\n",
    "\n",
    "            precision_score = metrics.precision_score(actual, predicted, average=param)\n",
    "            print(f\"Recall score: {recall_score:.2f} with average parameter: {param}\")\n",
    "\n",
    "            f1_score = metrics.f1_score(actual, predicted, average=param)\n",
    "            print(f\"F1 score: {f1_score:.2f} with average parameter: {param} \\n\")\n",
    "\n",
    "    accuracy_score = metrics.accuracy_score(actual, predicted)\n",
    "    if print_for_params:\n",
    "        print(f\"Accuracy score: {accuracy_score:.2f}\")\n",
    "\n",
    "    return accuracy_score, precision_score, recall_score, f1_score"
   ]
  },
  {
   "cell_type": "code",
   "execution_count": 12,
   "metadata": {
    "pycharm": {
     "name": "#%%\n"
    }
   },
   "outputs": [],
   "source": [
    "def pprint(d, indent=0):\n",
    "    for key, value in d.items():\n",
    "        print('\\t' * indent + str(key))\n",
    "        if isinstance(value, dict):\n",
    "            pprint(value, indent + 1)\n",
    "        else:\n",
    "            print('\\t' * (indent + 1) + str(value))"
   ]
  },
  {
   "cell_type": "markdown",
   "metadata": {
    "pycharm": {
     "name": "#%% md\n"
    }
   },
   "source": [
    "Create our model and test it for the various parameters. Since we retained some imbalance in our dataset, we will\n",
    "assign different class weights. This ofcourse could prove to be not-significant since we already remedied the imbalance\n",
    "with resampling\n",
    "\n",
    "We will assign weights inverse to the re-sampled class distribution"
   ]
  },
  {
   "cell_type": "code",
   "execution_count": 13,
   "outputs": [
    {
     "name": "stdout",
     "output_type": "stream",
     "text": [
      "Resampled class distribution: Counter({0: 56862, 1: 28431})\n"
     ]
    }
   ],
   "source": [
    "print(f\"Resampled class distribution: {resampled_count}\")\n",
    "weights = {0:1.0, 1:2.0}"
   ],
   "metadata": {
    "collapsed": false,
    "pycharm": {
     "name": "#%%\n"
    }
   }
  },
  {
   "cell_type": "code",
   "execution_count": 14,
   "metadata": {
    "pycharm": {
     "name": "#%%\n"
    }
   },
   "outputs": [],
   "source": [
    "param_list = [\n",
    "    {'C': .1,  'kernel': 'poly',    'gamma': .2,  'degree': 2, 'class_weight':weights, 'probability':True, 'max_iter': 50000},\n",
    "    {'C': 10,  'kernel': 'poly',    'gamma':  6,  'degree': 5, 'class_weight':weights, 'probability':True, 'max_iter': 50000},\n",
    "    {'C': .1,  'kernel': 'rbf',     'gamma': .3, 'class_weight':weights, 'probability':True, 'max_iter': 10000},\n",
    "    {'C': 10,  'kernel': 'rbf',     'gamma':  5, 'class_weight':weights, 'probability':True, 'max_iter': 10000},\n",
    "    {'C': .1,  'kernel': 'sigmoid', 'gamma': .5, 'class_weight':weights, 'probability':True, 'max_iter': 10000},\n",
    "    {'C': 10,  'kernel': 'sigmoid', 'gamma':  2, 'class_weight':weights, 'probability':True, 'max_iter': 10000},\n",
    "    {'C': 100, 'kernel': 'sigmoid', 'gamma':  5, 'class_weight':weights, 'probability':True, 'max_iter': 10000}\n",
    "]"
   ]
  },
  {
   "cell_type": "code",
   "execution_count": 15,
   "metadata": {
    "pycharm": {
     "name": "#%%\n"
    }
   },
   "outputs": [
    {
     "name": "stderr",
     "output_type": "stream",
     "text": [
      "/home/georg/miniconda3/envs/ML-Assignments/lib/python3.8/site-packages/sklearn/svm/_base.py:246: ConvergenceWarning: Solver terminated early (max_iter=50000).  Consider pre-processing your data with StandardScaler or MinMaxScaler.\n",
      "  warnings.warn('Solver terminated early (max_iter=%i).'\n",
      "/home/georg/miniconda3/envs/ML-Assignments/lib/python3.8/site-packages/sklearn/svm/_base.py:246: ConvergenceWarning: Solver terminated early (max_iter=10000).  Consider pre-processing your data with StandardScaler or MinMaxScaler.\n",
      "  warnings.warn('Solver terminated early (max_iter=%i).'\n",
      "/home/georg/miniconda3/envs/ML-Assignments/lib/python3.8/site-packages/sklearn/svm/_base.py:246: ConvergenceWarning: Solver terminated early (max_iter=10000).  Consider pre-processing your data with StandardScaler or MinMaxScaler.\n",
      "  warnings.warn('Solver terminated early (max_iter=%i).'\n",
      "/home/georg/miniconda3/envs/ML-Assignments/lib/python3.8/site-packages/sklearn/svm/_base.py:246: ConvergenceWarning: Solver terminated early (max_iter=10000).  Consider pre-processing your data with StandardScaler or MinMaxScaler.\n",
      "  warnings.warn('Solver terminated early (max_iter=%i).'\n",
      "/home/georg/miniconda3/envs/ML-Assignments/lib/python3.8/site-packages/sklearn/metrics/_classification.py:1221: UndefinedMetricWarning: Precision is ill-defined and being set to 0.0 in labels with no predicted samples. Use `zero_division` parameter to control this behavior.\n",
      "  _warn_prf(average, modifier, msg_start, len(result))\n",
      "/home/georg/miniconda3/envs/ML-Assignments/lib/python3.8/site-packages/sklearn/svm/_base.py:246: ConvergenceWarning: Solver terminated early (max_iter=10000).  Consider pre-processing your data with StandardScaler or MinMaxScaler.\n",
      "  warnings.warn('Solver terminated early (max_iter=%i).'\n",
      "/home/georg/miniconda3/envs/ML-Assignments/lib/python3.8/site-packages/sklearn/metrics/_classification.py:1221: UndefinedMetricWarning: Precision is ill-defined and being set to 0.0 in labels with no predicted samples. Use `zero_division` parameter to control this behavior.\n",
      "  _warn_prf(average, modifier, msg_start, len(result))\n"
     ]
    }
   ],
   "source": [
    "results = []\n",
    "for params in param_list:\n",
    "    classifier = SVC(**params)\n",
    "\n",
    "    classifier.fit(x_train, y_train)\n",
    "    y_pred = classifier.predict(x_test)\n",
    "\n",
    "    results.append(evaluate_model(y_test, y_pred))"
   ]
  },
  {
   "cell_type": "code",
   "execution_count": 17,
   "metadata": {
    "pycharm": {
     "name": "#%%\n"
    }
   },
   "outputs": [
    {
     "name": "stdout",
     "output_type": "stream",
     "text": [
      "For parameters: {'C': 0.1, 'kernel': 'poly', 'gamma': 0.2, 'degree': 2, 'class_weight': {0: 1.0, 1: 2.0}, 'probability': True, 'max_iter': 50000}\n",
      "Accuracy: 0.975, Precision: 0.977, Recall: 0.967, F1: 0.972\n",
      "\n",
      "\n",
      "For parameters: {'C': 10, 'kernel': 'poly', 'gamma': 6, 'degree': 5, 'class_weight': {0: 1.0, 1: 2.0}, 'probability': True, 'max_iter': 50000}\n",
      "Accuracy: 0.865, Precision: 0.845, Recall: 0.867, F1: 0.853\n",
      "\n",
      "\n",
      "For parameters: {'C': 0.1, 'kernel': 'rbf', 'gamma': 0.3, 'class_weight': {0: 1.0, 1: 2.0}, 'probability': True, 'max_iter': 10000}\n",
      "Accuracy: 0.975, Precision: 0.976, Recall: 0.967, F1: 0.971\n",
      "\n",
      "\n",
      "For parameters: {'C': 10, 'kernel': 'rbf', 'gamma': 5, 'class_weight': {0: 1.0, 1: 2.0}, 'probability': True, 'max_iter': 10000}\n",
      "Accuracy: 0.997, Precision: 0.997, Recall: 0.997, F1: 0.997\n",
      "\n",
      "\n",
      "For parameters: {'C': 0.1, 'kernel': 'sigmoid', 'gamma': 0.5, 'class_weight': {0: 1.0, 1: 2.0}, 'probability': True, 'max_iter': 10000}\n",
      "Accuracy: 0.333, Precision: 0.202, Recall: 0.499, F1: 0.250\n",
      "\n",
      "\n",
      "For parameters: {'C': 10, 'kernel': 'sigmoid', 'gamma': 2, 'class_weight': {0: 1.0, 1: 2.0}, 'probability': True, 'max_iter': 10000}\n",
      "Accuracy: 0.666, Precision: 0.333, Recall: 0.500, F1: 0.400\n",
      "\n",
      "\n",
      "For parameters: {'C': 100, 'kernel': 'sigmoid', 'gamma': 5, 'class_weight': {0: 1.0, 1: 2.0}, 'probability': True, 'max_iter': 10000}\n",
      "Accuracy: 0.334, Precision: 0.167, Recall: 0.500, F1: 0.250\n",
      "\n",
      "\n"
     ]
    }
   ],
   "source": [
    "for i, result in enumerate(results):\n",
    "    print(f\"For parameters: {param_list[i]}\"),\n",
    "    print(f'Accuracy: {result[0]:.3f}, Precision: {result[1]:.3f}, Recall: {result[2]:.3f}, F1: {result[3]:.3f}')\n",
    "    print(\"\\n\")"
   ]
  }
 ],
 "metadata": {
  "kernelspec": {
   "display_name": "Python 3",
   "language": "python",
   "name": "python3"
  },
  "language_info": {
   "codemirror_mode": {
    "name": "ipython",
    "version": 3
   },
   "file_extension": ".py",
   "mimetype": "text/x-python",
   "name": "python",
   "nbconvert_exporter": "python",
   "pygments_lexer": "ipython3",
   "version": "3.8.2"
  }
 },
 "nbformat": 4,
 "nbformat_minor": 1
}