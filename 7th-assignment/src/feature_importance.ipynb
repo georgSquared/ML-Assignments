{
 "cells": [
  {
   "cell_type": "markdown",
   "metadata": {
    "collapsed": true,
    "pycharm": {
     "name": "#%% md\n"
    }
   },
   "source": [
    "## Feature Selection - Discretization\n",
    "\n",
    "We are going to classify pulsar candidates as pulsars and try to improve our algorithms performance by\n",
    "selecting just the most important subset of features"
   ]
  },
  {
   "cell_type": "markdown",
   "metadata": {
    "pycharm": {
     "name": "#%% md\n"
    }
   },
   "source": [
    "First the necessary imports"
   ]
  },
  {
   "cell_type": "code",
   "execution_count": 1,
   "metadata": {
    "pycharm": {
     "name": "#%%\n"
    }
   },
   "outputs": [],
   "source": [
    "import matplotlib.pyplot as plt\n",
    "import numpy as np\n",
    "import pandas as pd\n",
    "from sklearn import metrics\n",
    "from sklearn.decomposition import PCA\n",
    "from sklearn.ensemble import RandomForestClassifier\n",
    "from sklearn.linear_model import LinearRegression, LogisticRegression\n",
    "from sklearn.model_selection import train_test_split\n",
    "from sklearn.neighbors import KNeighborsClassifier\n",
    "from sklearn.preprocessing import StandardScaler"
   ]
  },
  {
   "cell_type": "markdown",
   "metadata": {
    "pycharm": {
     "name": "#%% md\n"
    }
   },
   "source": [
    "Load our dataset. The feature names are taken from the dataset README\n",
    "\n",
    "ie = Integrated Profile\n",
    "dm = DM-SNR Curve"
   ]
  },
  {
   "cell_type": "code",
   "execution_count": 2,
   "metadata": {
    "pycharm": {
     "name": "#%%\n"
    }
   },
   "outputs": [
    {
     "data": {
      "text/plain": "      ie_mean  ie_standard_deviation  ie_excess_kurtosis  ie_skewness  \\\n0  140.562500              55.683782           -0.234571    -0.699648   \n1  102.507812              58.882430            0.465318    -0.515088   \n2  103.015625              39.341649            0.323328     1.051164   \n3  136.750000              57.178449           -0.068415    -0.636238   \n4   88.726562              40.672225            0.600866     1.123492   \n\n    dm_mean  dm_standard_deviation  dm_excess_kurtosis  dm_skewness  target  \n0  3.199833              19.110426            7.975532    74.242225       0  \n1  1.677258              14.860146           10.576487   127.393580       0  \n2  3.121237              21.744669            7.735822    63.171909       0  \n3  3.642977              20.959280            6.896499    53.593661       0  \n4  1.178930              11.468720           14.269573   252.567306       0  ",
      "text/html": "<div>\n<style scoped>\n    .dataframe tbody tr th:only-of-type {\n        vertical-align: middle;\n    }\n\n    .dataframe tbody tr th {\n        vertical-align: top;\n    }\n\n    .dataframe thead th {\n        text-align: right;\n    }\n</style>\n<table border=\"1\" class=\"dataframe\">\n  <thead>\n    <tr style=\"text-align: right;\">\n      <th></th>\n      <th>ie_mean</th>\n      <th>ie_standard_deviation</th>\n      <th>ie_excess_kurtosis</th>\n      <th>ie_skewness</th>\n      <th>dm_mean</th>\n      <th>dm_standard_deviation</th>\n      <th>dm_excess_kurtosis</th>\n      <th>dm_skewness</th>\n      <th>target</th>\n    </tr>\n  </thead>\n  <tbody>\n    <tr>\n      <th>0</th>\n      <td>140.562500</td>\n      <td>55.683782</td>\n      <td>-0.234571</td>\n      <td>-0.699648</td>\n      <td>3.199833</td>\n      <td>19.110426</td>\n      <td>7.975532</td>\n      <td>74.242225</td>\n      <td>0</td>\n    </tr>\n    <tr>\n      <th>1</th>\n      <td>102.507812</td>\n      <td>58.882430</td>\n      <td>0.465318</td>\n      <td>-0.515088</td>\n      <td>1.677258</td>\n      <td>14.860146</td>\n      <td>10.576487</td>\n      <td>127.393580</td>\n      <td>0</td>\n    </tr>\n    <tr>\n      <th>2</th>\n      <td>103.015625</td>\n      <td>39.341649</td>\n      <td>0.323328</td>\n      <td>1.051164</td>\n      <td>3.121237</td>\n      <td>21.744669</td>\n      <td>7.735822</td>\n      <td>63.171909</td>\n      <td>0</td>\n    </tr>\n    <tr>\n      <th>3</th>\n      <td>136.750000</td>\n      <td>57.178449</td>\n      <td>-0.068415</td>\n      <td>-0.636238</td>\n      <td>3.642977</td>\n      <td>20.959280</td>\n      <td>6.896499</td>\n      <td>53.593661</td>\n      <td>0</td>\n    </tr>\n    <tr>\n      <th>4</th>\n      <td>88.726562</td>\n      <td>40.672225</td>\n      <td>0.600866</td>\n      <td>1.123492</td>\n      <td>1.178930</td>\n      <td>11.468720</td>\n      <td>14.269573</td>\n      <td>252.567306</td>\n      <td>0</td>\n    </tr>\n  </tbody>\n</table>\n</div>"
     },
     "execution_count": 2,
     "metadata": {},
     "output_type": "execute_result"
    }
   ],
   "source": [
    "names = [\n",
    "    \"ie_mean\",\n",
    "\t\"ie_standard_deviation\",\n",
    "\t\"ie_excess_kurtosis\",\n",
    "\t\"ie_skewness\",\n",
    "\t\"dm_mean\",\n",
    "    \"dm_standard_deviation\",\n",
    "    \"dm_excess_kurtosis\",\n",
    "    \"dm_skewness\",\n",
    "    \"target\"\n",
    "]\n",
    "df = pd.read_csv('HTRU_2.csv', names=names)\n",
    "df.head()"
   ]
  },
  {
   "cell_type": "markdown",
   "metadata": {
    "pycharm": {
     "name": "#%% md\n"
    }
   },
   "source": [
    "Lets split our dataset to train and test sets\n"
   ]
  },
  {
   "cell_type": "code",
   "execution_count": 3,
   "metadata": {
    "pycharm": {
     "name": "#%%\n"
    }
   },
   "outputs": [
    {
     "name": "stdout",
     "output_type": "stream",
     "text": [
      "(13423, 8) (13423,) (4475, 8) (4475,)\n"
     ]
    }
   ],
   "source": [
    "x_train, x_test, y_train, y_test = train_test_split(df[[\"ie_mean\",\n",
    "                                                        \"ie_standard_deviation\",\n",
    "                                                        \"ie_excess_kurtosis\",\n",
    "                                                        \"ie_skewness\",\n",
    "                                                        \"dm_mean\",\n",
    "                                                        \"dm_standard_deviation\",\n",
    "                                                        \"dm_excess_kurtosis\",\n",
    "                                                        \"dm_skewness\",]],\n",
    "                                                    df['target'],\n",
    "                                                    test_size = 0.25, random_state = 0)\n",
    "print (x_train.shape, y_train.shape, x_test.shape, y_test.shape)"
   ]
  },
  {
   "cell_type": "markdown",
   "metadata": {
    "pycharm": {
     "name": "#%% md\n"
    }
   },
   "source": [
    "We will define some basic utility functions. A simple evaluation function to call whenever we want to evaluate our model,\n",
    "and a pretty print for better dictionary printing"
   ]
  },
  {
   "cell_type": "code",
   "execution_count": 4,
   "metadata": {
    "pycharm": {
     "name": "#%%\n"
    }
   },
   "outputs": [],
   "source": [
    "def evaluate_model(actual, predicted, print_for_params=False, average=\"macro\"):\n",
    "    average = average\n",
    "    recall_score = metrics.recall_score(actual, predicted, average=average)\n",
    "    precision_score = metrics.precision_score(actual, predicted, average=average)\n",
    "    f1_score = metrics.f1_score(actual, predicted, average=average)\n",
    "\n",
    "    if print_for_params:\n",
    "        average_params = ['binary', 'micro', 'macro', 'weighted']\n",
    "        for param in average_params:\n",
    "            recall_score = metrics.recall_score(actual, predicted, average=param)\n",
    "            print(f\"Precision score: {precision_score:.2f} with average parameter: {param}\")\n",
    "\n",
    "            precision_score = metrics.precision_score(actual, predicted, average=param)\n",
    "            print(f\"Recall score: {recall_score:.2f} with average parameter: {param}\")\n",
    "\n",
    "            f1_score = metrics.f1_score(actual, predicted, average=param)\n",
    "            print(f\"F1 score: {f1_score:.2f} with average parameter: {param} \\n\")\n",
    "\n",
    "    accuracy_score = metrics.accuracy_score(actual, predicted)\n",
    "    if print_for_params:\n",
    "        print(f\"Accuracy score: {accuracy_score:.2f}\")\n",
    "\n",
    "    return accuracy_score, precision_score, recall_score, f1_score"
   ]
  },
  {
   "cell_type": "code",
   "execution_count": 5,
   "outputs": [],
   "source": [
    "def pprint(d, indent=0):\n",
    "    for key, value in d.items():\n",
    "        print('\\t' * indent + str(key))\n",
    "        if isinstance(value, dict):\n",
    "            pprint(value, indent + 1)\n",
    "        else:\n",
    "            print('\\t' * (indent + 1) + str(value))"
   ],
   "metadata": {
    "collapsed": false,
    "pycharm": {
     "name": "#%%\n"
    }
   }
  },
  {
   "cell_type": "markdown",
   "metadata": {
    "pycharm": {
     "name": "#%% md\n"
    }
   },
   "source": [
    "We choose a simple KNN classifier as the baseline model to compare performance before and after all the\n",
    "relevant feature importance/selection techniques"
   ]
  },
  {
   "cell_type": "code",
   "execution_count": 6,
   "metadata": {
    "pycharm": {
     "name": "#%%\n"
    }
   },
   "outputs": [],
   "source": [
    "model = KNeighborsClassifier(n_jobs=-1)\n",
    "model.fit(x_train, y_train)\n",
    "y_pred = model.predict(x_test)"
   ]
  },
  {
   "cell_type": "markdown",
   "metadata": {
    "pycharm": {
     "name": "#%% md\n"
    }
   },
   "source": [
    "Evaluate our predictions and plot the AUC curve\n"
   ]
  },
  {
   "cell_type": "code",
   "execution_count": 7,
   "metadata": {
    "pycharm": {
     "name": "#%%\n"
    }
   },
   "outputs": [
    {
     "name": "stdout",
     "output_type": "stream",
     "text": [
      "Accuracy: 0.98\n",
      "Precision: 0.93\n",
      "Recall: 0.90\n",
      "F1: 0.92\n"
     ]
    },
    {
     "data": {
      "text/plain": "<Figure size 432x288 with 1 Axes>",
      "image/png": "[encoded data removed]"
     },
     "metadata": {
      "needs_background": "light"
     },
     "output_type": "display_data"
    }
   ],
   "source": [
    "results = {}\n",
    "\n",
    "accuracy, precision, recall, f1 = evaluate_model(y_test, y_pred)\n",
    "print(f\"Accuracy: {accuracy:.2f}\")\n",
    "print(f\"Precision: {precision:.2f}\")\n",
    "print(f\"Recall: {recall:.2f}\")\n",
    "print(f\"F1: {f1:.2f}\")\n",
    "\n",
    "fpr, tpr, threshold = metrics.roc_curve(y_test, y_pred)\n",
    "roc_auc = metrics.auc(fpr, tpr)\n",
    "plt.plot(fpr, tpr, label = f'AUC = {roc_auc:.2f}')\n",
    "\n",
    "plt.plot([0,1], [0,1], color='orange', linestyle='--')\n",
    "\n",
    "plt.xticks(np.arange(0.0, 1.1, step=0.1))\n",
    "plt.xlabel(\"Flase Positive Rate\", fontsize=15)\n",
    "\n",
    "plt.yticks(np.arange(0.0, 1.1, step=0.1))\n",
    "plt.ylabel(\"True Positive Rate\", fontsize=15)\n",
    "\n",
    "plt.title('ROC Curve', fontweight='bold', fontsize=15)\n",
    "plt.legend(prop={'size':13}, loc='lower right')\n",
    "\n",
    "plt.show()\n",
    "\n",
    "results[\"initial\"] = {\n",
    "    \"accuracy\": accuracy,\n",
    "    \"precision\": precision,\n",
    "    \"recall\": recall,\n",
    "    \"f1\": f1,\n",
    "    \"fpr\": fpr,\n",
    "    \"tpr\": tpr,\n",
    "    \"roc_auc\": roc_auc\n",
    "}"
   ]
  },
  {
   "cell_type": "markdown",
   "source": [
    "### PCA\n",
    "Next we will reduce our features via PCA. Data will also need to be standarized"
   ],
   "metadata": {
    "collapsed": false,
    "pycharm": {
     "name": "#%% md\n"
    }
   }
  },
  {
   "cell_type": "code",
   "execution_count": 8,
   "outputs": [
    {
     "name": "stdout",
     "output_type": "stream",
     "text": [
      "(13423, 4) (4475, 4)\n"
     ]
    }
   ],
   "source": [
    "scaler = StandardScaler()\n",
    "x_train = scaler.fit_transform(x_train)\n",
    "x_test = scaler.transform(x_test)\n",
    "\n",
    "pca = PCA(n_components=4)\n",
    "x_train = pca.fit_transform(x_train)\n",
    "x_test = pca.transform(x_test)\n",
    "print(x_train.shape, x_test.shape)"
   ],
   "metadata": {
    "collapsed": false,
    "pycharm": {
     "name": "#%%\n"
    }
   }
  },
  {
   "cell_type": "markdown",
   "source": [
    "We see the feature dimensions reduce. We can now retrain our model and evaluate its performance\n"
   ],
   "metadata": {
    "collapsed": false,
    "pycharm": {
     "name": "#%% md\n"
    }
   }
  },
  {
   "cell_type": "code",
   "execution_count": 9,
   "outputs": [],
   "source": [
    "model = KNeighborsClassifier(n_jobs=-1)\n",
    "model.fit(x_train, y_train)\n",
    "pca_y_pred = model.predict(x_test)\n"
   ],
   "metadata": {
    "collapsed": false,
    "pycharm": {
     "name": "#%%\n"
    }
   }
  },
  {
   "cell_type": "code",
   "execution_count": 10,
   "outputs": [
    {
     "name": "stdout",
     "output_type": "stream",
     "text": [
      "Accuracy: 0.98\n",
      "Precision: 0.96\n",
      "Recall: 0.90\n",
      "F1: 0.93\n"
     ]
    },
    {
     "data": {
      "text/plain": "<Figure size 432x288 with 1 Axes>",
      "image/png": "[encoded data removed]"
     },
     "metadata": {
      "needs_background": "light"
     },
     "output_type": "display_data"
    }
   ],
   "source": [
    "accuracy, precision, recall, f1 = evaluate_model(y_test, pca_y_pred)\n",
    "print(f\"Accuracy: {accuracy:.2f}\")\n",
    "print(f\"Precision: {precision:.2f}\")\n",
    "print(f\"Recall: {recall:.2f}\")\n",
    "print(f\"F1: {f1:.2f}\")\n",
    "\n",
    "pca_fpr, pca_tpr, threshold = metrics.roc_curve(y_test, pca_y_pred)\n",
    "pca_roc_auc = metrics.auc(pca_fpr, pca_tpr)\n",
    "\n",
    "plt.plot(fpr, tpr, label = f'(No PCA) AUC = {roc_auc:.2f}')\n",
    "plt.plot(pca_fpr, pca_tpr, label = f'(PCA) AUC = {pca_roc_auc:.2f}')\n",
    "\n",
    "plt.plot([0,1], [0,1], color='orange', linestyle='--')\n",
    "\n",
    "plt.xticks(np.arange(0.0, 1.1, step=0.1))\n",
    "plt.xlabel(\"Flase Positive Rate\", fontsize=15)\n",
    "\n",
    "plt.yticks(np.arange(0.0, 1.1, step=0.1))\n",
    "plt.ylabel(\"True Positive Rate\", fontsize=15)\n",
    "\n",
    "plt.title('ROC Curve', fontweight='bold', fontsize=15)\n",
    "plt.legend(prop={'size':13}, loc='lower right')\n",
    "\n",
    "plt.show()\n",
    "\n",
    "results[\"pca\"] = {\n",
    "    \"accuracy\": accuracy,\n",
    "    \"precision\": precision,\n",
    "    \"recall\": recall,\n",
    "    \"f1\": f1,\n",
    "    \"fpr\": fpr,\n",
    "    \"tpr\": tpr,\n",
    "    \"roc_auc\": roc_auc\n",
    "}"
   ],
   "metadata": {
    "collapsed": false,
    "pycharm": {
     "name": "#%%\n"
    }
   }
  },
  {
   "cell_type": "markdown",
   "source": [
    "### Feature importance/selection\n",
    "Next step is to apply a Logistic Regression and a Random Forest to discover the most important features of our dataset\n",
    "from the corresponding coefficients (feature weights) and contribution to decrease in impurity"
   ],
   "metadata": {
    "collapsed": false,
    "pycharm": {
     "name": "#%% md\n"
    }
   }
  },
  {
   "cell_type": "code",
   "execution_count": 11,
   "outputs": [
    {
     "name": "stdout",
     "output_type": "stream",
     "text": [
      "(13423, 8) (13423,) (4475, 8) (4475,)\n"
     ]
    }
   ],
   "source": [
    "x_train, x_test, y_train, y_test = train_test_split(df[[\"ie_mean\",\n",
    "                                                        \"ie_standard_deviation\",\n",
    "                                                        \"ie_excess_kurtosis\",\n",
    "                                                        \"ie_skewness\",\n",
    "                                                        \"dm_mean\",\n",
    "                                                        \"dm_standard_deviation\",\n",
    "                                                        \"dm_excess_kurtosis\",\n",
    "                                                        \"dm_skewness\",]],\n",
    "                                                    df['target'],\n",
    "                                                    test_size = 0.25, random_state = 0)\n",
    "print (x_train.shape, y_train.shape, x_test.shape, y_test.shape)"
   ],
   "metadata": {
    "collapsed": false,
    "pycharm": {
     "name": "#%%\n"
    }
   }
  },
  {
   "cell_type": "code",
   "execution_count": 12,
   "outputs": [
    {
     "data": {
      "text/plain": "<Figure size 432x288 with 1 Axes>",
      "image/png": "[encoded data removed]"
     },
     "metadata": {
      "needs_background": "light"
     },
     "output_type": "display_data"
    }
   ],
   "source": [
    "model = LogisticRegression(solver='saga', max_iter=10000, penalty='l2', n_jobs=-1)\n",
    "model.fit(x_train, y_train)\n",
    "importance = model.coef_[0]\n",
    "\n",
    "logreg_feature_importance = {}\n",
    "for idx, value in enumerate(importance):\n",
    "    logreg_feature_importance[names[idx]] = value\n",
    "\n",
    "plt.title(\"Logistic Regression Feature Importance\")\n",
    "plt.bar([label for label in logreg_feature_importance.keys()], logreg_feature_importance.values())\n",
    "plt.xticks(rotation='vertical')\n",
    "plt.show()"
   ],
   "metadata": {
    "collapsed": false,
    "pycharm": {
     "name": "#%%\n"
    }
   }
  },
  {
   "cell_type": "code",
   "execution_count": 13,
   "outputs": [
    {
     "data": {
      "text/plain": "<Figure size 432x288 with 1 Axes>",
      "image/png": "[encoded data removed]"
     },
     "metadata": {
      "needs_background": "light"
     },
     "output_type": "display_data"
    }
   ],
   "source": [
    "model = RandomForestClassifier()\n",
    "model.fit(x_train, y_train)\n",
    "importance = model.feature_importances_\n",
    "\n",
    "randforest_feature_importance = {}\n",
    "for idx, value in enumerate(importance):\n",
    "    randforest_feature_importance[names[idx]] = value\n",
    "\n",
    "plt.title(\"Random Forest Feature Importance\")\n",
    "plt.bar([label for label in randforest_feature_importance.keys()], randforest_feature_importance.values())\n",
    "plt.xticks(rotation='vertical')\n",
    "plt.show()"
   ],
   "metadata": {
    "collapsed": false,
    "pycharm": {
     "name": "#%%\n"
    }
   }
  },
  {
   "cell_type": "markdown",
   "source": [
    "LogisticRegression seems to more clearly promote some of the features so we will use it as the baseline for feature\n",
    "importance and selection"
   ],
   "metadata": {
    "collapsed": false,
    "pycharm": {
     "name": "#%% md\n"
    }
   }
  },
  {
   "cell_type": "code",
   "execution_count": 14,
   "outputs": [
    {
     "name": "stdout",
     "output_type": "stream",
     "text": [
      "Feature importances\n",
      "ie_excess_kurtosis\n",
      "\t0.692234342533794\n",
      "ie_skewness\n",
      "\t0.29399556183139675\n",
      "dm_excess_kurtosis\n",
      "\t-0.23071904481995903\n",
      "ie_mean\n",
      "\t-0.052483551959782826\n",
      "dm_standard_deviation\n",
      "\t0.0440564439341342\n",
      "ie_standard_deviation\n",
      "\t0.040259531558151554\n",
      "dm_mean\n",
      "\t-0.02623651875745035\n",
      "dm_skewness\n",
      "\t0.004221801747115312\n"
     ]
    }
   ],
   "source": [
    "# Note: This works only on python 3.7+, before that dicts are not ordered\n",
    "importance = {k: v for k, v in sorted(logreg_feature_importance.items(), key=lambda item: abs(item[1]), reverse=True)}\n",
    "print(\"Feature importances\")\n",
    "pprint(importance)"
   ],
   "metadata": {
    "collapsed": false,
    "pycharm": {
     "name": "#%%\n"
    }
   }
  },
  {
   "cell_type": "markdown",
   "source": [
    "## Performance with 4 most important features\n",
    "\n",
    "We will begin by creating a dataframe with just our most important features"
   ],
   "metadata": {
    "collapsed": false,
    "pycharm": {
     "name": "#%% md\n"
    }
   }
  },
  {
   "cell_type": "code",
   "execution_count": 15,
   "outputs": [
    {
     "data": {
      "text/plain": "   ie_excess_kurtosis  ie_skewness  dm_excess_kurtosis     ie_mean  target\n0           -0.234571    -0.699648            7.975532  140.562500       0\n1            0.465318    -0.515088           10.576487  102.507812       0\n2            0.323328     1.051164            7.735822  103.015625       0\n3           -0.068415    -0.636238            6.896499  136.750000       0\n4            0.600866     1.123492           14.269573   88.726562       0",
      "text/html": "<div>\n<style scoped>\n    .dataframe tbody tr th:only-of-type {\n        vertical-align: middle;\n    }\n\n    .dataframe tbody tr th {\n        vertical-align: top;\n    }\n\n    .dataframe thead th {\n        text-align: right;\n    }\n</style>\n<table border=\"1\" class=\"dataframe\">\n  <thead>\n    <tr style=\"text-align: right;\">\n      <th></th>\n      <th>ie_excess_kurtosis</th>\n      <th>ie_skewness</th>\n      <th>dm_excess_kurtosis</th>\n      <th>ie_mean</th>\n      <th>target</th>\n    </tr>\n  </thead>\n  <tbody>\n    <tr>\n      <th>0</th>\n      <td>-0.234571</td>\n      <td>-0.699648</td>\n      <td>7.975532</td>\n      <td>140.562500</td>\n      <td>0</td>\n    </tr>\n    <tr>\n      <th>1</th>\n      <td>0.465318</td>\n      <td>-0.515088</td>\n      <td>10.576487</td>\n      <td>102.507812</td>\n      <td>0</td>\n    </tr>\n    <tr>\n      <th>2</th>\n      <td>0.323328</td>\n      <td>1.051164</td>\n      <td>7.735822</td>\n      <td>103.015625</td>\n      <td>0</td>\n    </tr>\n    <tr>\n      <th>3</th>\n      <td>-0.068415</td>\n      <td>-0.636238</td>\n      <td>6.896499</td>\n      <td>136.750000</td>\n      <td>0</td>\n    </tr>\n    <tr>\n      <th>4</th>\n      <td>0.600866</td>\n      <td>1.123492</td>\n      <td>14.269573</td>\n      <td>88.726562</td>\n      <td>0</td>\n    </tr>\n  </tbody>\n</table>\n</div>"
     },
     "execution_count": 15,
     "metadata": {},
     "output_type": "execute_result"
    }
   ],
   "source": [
    "top_labels = list(importance.keys())[:4]\n",
    "reduced_df = df[top_labels + [\"target\"]]\n",
    "reduced_df.head()\n"
   ],
   "metadata": {
    "collapsed": false,
    "pycharm": {
     "name": "#%%\n"
    }
   }
  },
  {
   "cell_type": "markdown",
   "source": [
    "Re-split our data and retrain our model with the subset of features"
   ],
   "metadata": {
    "collapsed": false,
    "pycharm": {
     "name": "#%% md\n"
    }
   }
  },
  {
   "cell_type": "code",
   "execution_count": 16,
   "outputs": [
    {
     "name": "stdout",
     "output_type": "stream",
     "text": [
      "(13423, 4) (13423,) (4475, 4) (4475,)\n"
     ]
    }
   ],
   "source": [
    "x_train, x_test, y_train, y_test = train_test_split(df[top_labels], df[\"target\"], test_size = 0.25, random_state = 0)\n",
    "print (x_train.shape, y_train.shape, x_test.shape, y_test.shape)"
   ],
   "metadata": {
    "collapsed": false,
    "pycharm": {
     "name": "#%%\n"
    }
   }
  },
  {
   "cell_type": "code",
   "execution_count": 17,
   "outputs": [],
   "source": [
    "model = KNeighborsClassifier(n_jobs=-1)\n",
    "model.fit(x_train, y_train)\n",
    "y_pred = model.predict(x_test)"
   ],
   "metadata": {
    "collapsed": false,
    "pycharm": {
     "name": "#%%\n"
    }
   }
  },
  {
   "cell_type": "code",
   "execution_count": 18,
   "outputs": [
    {
     "name": "stdout",
     "output_type": "stream",
     "text": [
      "Accuracy: 0.98\n",
      "Precision: 0.95\n",
      "Recall: 0.89\n",
      "F1: 0.92\n"
     ]
    },
    {
     "data": {
      "text/plain": "<Figure size 432x288 with 1 Axes>",
      "image/png": "[encoded data removed]"
     },
     "metadata": {
      "needs_background": "light"
     },
     "output_type": "display_data"
    }
   ],
   "source": [
    "accuracy, precision, recall, f1 = evaluate_model(y_test, y_pred)\n",
    "print(f\"Accuracy: {accuracy:.2f}\")\n",
    "print(f\"Precision: {precision:.2f}\")\n",
    "print(f\"Recall: {recall:.2f}\")\n",
    "print(f\"F1: {f1:.2f}\")\n",
    "\n",
    "fpr, tpr, threshold = metrics.roc_curve(y_test, y_pred)\n",
    "roc_auc = metrics.auc(fpr, tpr)\n",
    "\n",
    "results[\"reduced\"] = {\n",
    "    \"accuracy\": accuracy,\n",
    "    \"precision\": precision,\n",
    "    \"recall\": recall,\n",
    "    \"f1\": f1,\n",
    "    \"fpr\": fpr,\n",
    "    \"tpr\": tpr,\n",
    "    \"roc_auc\": roc_auc\n",
    "}\n",
    "\n",
    "for experiment in results:\n",
    "    plt.plot(results[experiment][\"fpr\"],\n",
    "             results[experiment][\"tpr\"],\n",
    "             label = f'{experiment} AUC = {results[experiment][\"roc_auc\"]:.2f}')\n",
    "\n",
    "plt.plot([0,1], [0,1], color='orange', linestyle='--')\n",
    "\n",
    "plt.xticks(np.arange(0.0, 1.1, step=0.1))\n",
    "plt.xlabel(\"Flase Positive Rate\", fontsize=15)\n",
    "\n",
    "plt.yticks(np.arange(0.0, 1.1, step=0.1))\n",
    "plt.ylabel(\"True Positive Rate\", fontsize=15)\n",
    "\n",
    "plt.title('ROC Curve', fontweight='bold', fontsize=15)\n",
    "plt.legend(prop={'size':13}, loc='lower right')\n",
    "\n",
    "plt.show()"
   ],
   "metadata": {
    "collapsed": false,
    "pycharm": {
     "name": "#%%\n"
    }
   }
  },
  {
   "cell_type": "code",
   "execution_count": 19,
   "outputs": [
    {
     "name": "stdout",
     "output_type": "stream",
     "text": [
      "initial\n",
      "\taccuracy\n",
      "\t\t0.9760893854748603\n",
      "\tprecision\n",
      "\t\t0.933927966604938\n",
      "\trecall\n",
      "\t\t0.8995494127176995\n",
      "\tf1\n",
      "\t\t0.9158750201385178\n",
      "\tfpr\n",
      "\t\t[0.         0.00923451 1.        ]\n",
      "\ttpr\n",
      "\t\t[0.         0.80833333 1.        ]\n",
      "\troc_auc\n",
      "\t\t0.8995494127176995\n",
      "pca\n",
      "\taccuracy\n",
      "\t\t0.9803351955307262\n",
      "\tprecision\n",
      "\t\t0.9585095602631043\n",
      "\trecall\n",
      "\t\t0.9043928041042257\n",
      "\tf1\n",
      "\t\t0.9294015228331753\n",
      "\tfpr\n",
      "\t\t[0.         0.00923451 1.        ]\n",
      "\ttpr\n",
      "\t\t[0.         0.80833333 1.        ]\n",
      "\troc_auc\n",
      "\t\t0.8995494127176995\n",
      "reduced\n",
      "\taccuracy\n",
      "\t\t0.9769832402234637\n",
      "\tprecision\n",
      "\t\t0.9462614741929491\n",
      "\trecall\n",
      "\t\t0.8924311462130416\n",
      "\tf1\n",
      "\t\t0.9172549076631731\n",
      "\tfpr\n",
      "\t\t[0.         0.00680437 1.        ]\n",
      "\ttpr\n",
      "\t\t[0.         0.79166667 1.        ]\n",
      "\troc_auc\n",
      "\t\t0.8924311462130416\n"
     ]
    }
   ],
   "source": [
    "pprint(results)"
   ],
   "metadata": {
    "collapsed": false,
    "pycharm": {
     "name": "#%%\n"
    }
   }
  },
  {
   "cell_type": "markdown",
   "source": [
    "### Final \"Ranking\"\n",
    "\n",
    "1. PCA\n",
    "2. Initial\n",
    "3. \"Hand-picked\" features (with Logistic Regression)"
   ],
   "metadata": {
    "collapsed": false,
    "pycharm": {
     "name": "#%% md\n"
    }
   }
  }
 ],
 "metadata": {
  "kernelspec": {
   "display_name": "Python 3",
   "language": "python",
   "name": "python3"
  },
  "language_info": {
   "codemirror_mode": {
    "name": "ipython",
    "version": 3
   },
   "file_extension": ".py",
   "mimetype": "text/x-python",
   "name": "python",
   "nbconvert_exporter": "python",
   "pygments_lexer": "ipython3",
   "version": "3.8.2"
  }
 },
 "nbformat": 4,
 "nbformat_minor": 1
}